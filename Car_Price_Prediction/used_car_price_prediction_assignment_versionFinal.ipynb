{
 "cells": [
  {
   "cell_type": "markdown",
   "metadata": {
    "id": "curQqdpMbV8a"
   },
   "source": [
    "<img src=\"https://miro.medium.com/max/647/1*ZOcUPrSXLYucFxppoI-dYg.png\">"
   ]
  },
  {
   "cell_type": "markdown",
   "metadata": {
    "id": "vIdfp9zXbV8w"
   },
   "source": [
    "# Problem definition"
   ]
  },
  {
   "cell_type": "markdown",
   "metadata": {
    "id": "_f1vwRmsbV8z"
   },
   "source": [
    "For this project we are using a car dataset, where we want to predict the selling price of car based on its certain features.\n",
    "Since we need to find the real value, with real calculation, therefore this problem is regression problem. \n",
    "We will be using linear regression to solve this problem.\n",
    "\n",
    "General equation of Multiple Linear Regression:\n",
    "$$y = \\beta_0 + \\beta_{1}x_1 + \\beta_{2}x_2 + \\beta_{3}x_3 + \\beta_{4}x_4 + ... + \\beta_{n}x_n$$"
   ]
  },
  {
   "cell_type": "markdown",
   "metadata": {
    "id": "m79bZ3ojbV82"
   },
   "source": [
    "# Libraries"
   ]
  },
  {
   "cell_type": "code",
   "execution_count": 1,
   "metadata": {
    "id": "zk6tvPRBbV84"
   },
   "outputs": [],
   "source": [
    "import numpy as np\n",
    "import pandas as pd\n",
    "\n",
    "import matplotlib.pyplot as plt\n",
    "import seaborn as sns\n",
    "\n",
    "plt.rcParams[\"figure.figsize\"] = (12,8)\n",
    "\n",
    "pd.set_option('display.max_columns', 100)\n",
    "\n",
    "import warnings\n",
    "warnings.filterwarnings('ignore')\n",
    "pd.set_option('display.max_rows', 500)\n",
    "pd.set_option('display.max_columns', 500)\n",
    "pd.set_option('display.width', 1000)\n",
    "\n",
    "from scipy import stats\n",
    "from scipy.stats import probplot"
   ]
  },
  {
   "cell_type": "markdown",
   "metadata": {
    "id": "Zu7fPn5HbV87"
   },
   "source": [
    "# Data Gathering"
   ]
  },
  {
   "cell_type": "code",
   "execution_count": 2,
   "metadata": {
    "id": "Hgyy7dkrbV89"
   },
   "outputs": [
    {
     "data": {
      "text/html": [
       "<div>\n",
       "<style scoped>\n",
       "    .dataframe tbody tr th:only-of-type {\n",
       "        vertical-align: middle;\n",
       "    }\n",
       "\n",
       "    .dataframe tbody tr th {\n",
       "        vertical-align: top;\n",
       "    }\n",
       "\n",
       "    .dataframe thead th {\n",
       "        text-align: right;\n",
       "    }\n",
       "</style>\n",
       "<table border=\"1\" class=\"dataframe\">\n",
       "  <thead>\n",
       "    <tr style=\"text-align: right;\">\n",
       "      <th></th>\n",
       "      <th>Car_Name</th>\n",
       "      <th>Year</th>\n",
       "      <th>Selling_Price</th>\n",
       "      <th>Present_Price</th>\n",
       "      <th>Kms_Driven</th>\n",
       "      <th>Fuel_Type</th>\n",
       "      <th>Seller_Type</th>\n",
       "      <th>Transmission</th>\n",
       "      <th>Owner</th>\n",
       "    </tr>\n",
       "  </thead>\n",
       "  <tbody>\n",
       "    <tr>\n",
       "      <th>0</th>\n",
       "      <td>ritz</td>\n",
       "      <td>2014</td>\n",
       "      <td>3.35</td>\n",
       "      <td>5.59</td>\n",
       "      <td>27000</td>\n",
       "      <td>Petrol</td>\n",
       "      <td>Dealer</td>\n",
       "      <td>Manual</td>\n",
       "      <td>0</td>\n",
       "    </tr>\n",
       "    <tr>\n",
       "      <th>1</th>\n",
       "      <td>sx4</td>\n",
       "      <td>2013</td>\n",
       "      <td>4.75</td>\n",
       "      <td>9.54</td>\n",
       "      <td>43000</td>\n",
       "      <td>Diesel</td>\n",
       "      <td>Dealer</td>\n",
       "      <td>Manual</td>\n",
       "      <td>0</td>\n",
       "    </tr>\n",
       "    <tr>\n",
       "      <th>2</th>\n",
       "      <td>ciaz</td>\n",
       "      <td>2017</td>\n",
       "      <td>7.25</td>\n",
       "      <td>9.85</td>\n",
       "      <td>6900</td>\n",
       "      <td>Petrol</td>\n",
       "      <td>Dealer</td>\n",
       "      <td>Manual</td>\n",
       "      <td>0</td>\n",
       "    </tr>\n",
       "    <tr>\n",
       "      <th>3</th>\n",
       "      <td>wagon r</td>\n",
       "      <td>2011</td>\n",
       "      <td>2.85</td>\n",
       "      <td>4.15</td>\n",
       "      <td>5200</td>\n",
       "      <td>Petrol</td>\n",
       "      <td>Dealer</td>\n",
       "      <td>Manual</td>\n",
       "      <td>0</td>\n",
       "    </tr>\n",
       "    <tr>\n",
       "      <th>4</th>\n",
       "      <td>swift</td>\n",
       "      <td>2014</td>\n",
       "      <td>4.60</td>\n",
       "      <td>6.87</td>\n",
       "      <td>42450</td>\n",
       "      <td>Diesel</td>\n",
       "      <td>Dealer</td>\n",
       "      <td>Manual</td>\n",
       "      <td>0</td>\n",
       "    </tr>\n",
       "  </tbody>\n",
       "</table>\n",
       "</div>"
      ],
      "text/plain": [
       "  Car_Name  Year  Selling_Price  Present_Price  Kms_Driven Fuel_Type Seller_Type Transmission  Owner\n",
       "0     ritz  2014           3.35           5.59       27000    Petrol      Dealer       Manual      0\n",
       "1      sx4  2013           4.75           9.54       43000    Diesel      Dealer       Manual      0\n",
       "2     ciaz  2017           7.25           9.85        6900    Petrol      Dealer       Manual      0\n",
       "3  wagon r  2011           2.85           4.15        5200    Petrol      Dealer       Manual      0\n",
       "4    swift  2014           4.60           6.87       42450    Diesel      Dealer       Manual      0"
      ]
     },
     "execution_count": 2,
     "metadata": {},
     "output_type": "execute_result"
    }
   ],
   "source": [
    "df = pd.read_csv(\"car_dataset.csv\")\n",
    "df.head()"
   ]
  },
  {
   "cell_type": "markdown",
   "metadata": {
    "id": "EyXAGsjnbV8_"
   },
   "source": [
    "# Data Preparation"
   ]
  },
  {
   "cell_type": "code",
   "execution_count": 3,
   "metadata": {
    "id": "zoySlXabbV9B"
   },
   "outputs": [
    {
     "data": {
      "text/plain": [
       "(301, 9)"
      ]
     },
     "execution_count": 3,
     "metadata": {},
     "output_type": "execute_result"
    }
   ],
   "source": [
    "df.shape"
   ]
  },
  {
   "cell_type": "code",
   "execution_count": 4,
   "metadata": {},
   "outputs": [
    {
     "name": "stdout",
     "output_type": "stream",
     "text": [
      "<class 'pandas.core.frame.DataFrame'>\n",
      "RangeIndex: 301 entries, 0 to 300\n",
      "Data columns (total 9 columns):\n",
      " #   Column         Non-Null Count  Dtype  \n",
      "---  ------         --------------  -----  \n",
      " 0   Car_Name       301 non-null    object \n",
      " 1   Year           301 non-null    int64  \n",
      " 2   Selling_Price  301 non-null    float64\n",
      " 3   Present_Price  301 non-null    float64\n",
      " 4   Kms_Driven     301 non-null    int64  \n",
      " 5   Fuel_Type      301 non-null    object \n",
      " 6   Seller_Type    301 non-null    object \n",
      " 7   Transmission   301 non-null    object \n",
      " 8   Owner          301 non-null    int64  \n",
      "dtypes: float64(2), int64(3), object(4)\n",
      "memory usage: 21.3+ KB\n"
     ]
    }
   ],
   "source": [
    "df.info()"
   ]
  },
  {
   "cell_type": "code",
   "execution_count": 5,
   "metadata": {},
   "outputs": [
    {
     "data": {
      "text/plain": [
       "Car_Name         False\n",
       "Year             False\n",
       "Selling_Price    False\n",
       "Present_Price    False\n",
       "Kms_Driven       False\n",
       "Fuel_Type        False\n",
       "Seller_Type      False\n",
       "Transmission     False\n",
       "Owner            False\n",
       "dtype: bool"
      ]
     },
     "execution_count": 5,
     "metadata": {},
     "output_type": "execute_result"
    }
   ],
   "source": [
    "df.isnull().any()"
   ]
  },
  {
   "cell_type": "code",
   "execution_count": 6,
   "metadata": {},
   "outputs": [
    {
     "data": {
      "text/plain": [
       "Car_Name         0\n",
       "Year             0\n",
       "Selling_Price    0\n",
       "Present_Price    0\n",
       "Kms_Driven       0\n",
       "Fuel_Type        0\n",
       "Seller_Type      0\n",
       "Transmission     0\n",
       "Owner            0\n",
       "dtype: int64"
      ]
     },
     "execution_count": 6,
     "metadata": {},
     "output_type": "execute_result"
    }
   ],
   "source": [
    "df.isna().sum()"
   ]
  },
  {
   "cell_type": "code",
   "execution_count": 7,
   "metadata": {},
   "outputs": [
    {
     "data": {
      "text/plain": [
       "Car_Name         0\n",
       "Year             0\n",
       "Selling_Price    0\n",
       "Present_Price    0\n",
       "Kms_Driven       0\n",
       "Fuel_Type        0\n",
       "Seller_Type      0\n",
       "Transmission     0\n",
       "Owner            0\n",
       "dtype: int64"
      ]
     },
     "execution_count": 7,
     "metadata": {},
     "output_type": "execute_result"
    }
   ],
   "source": [
    "df.isnull().sum()"
   ]
  },
  {
   "cell_type": "code",
   "execution_count": 8,
   "metadata": {},
   "outputs": [
    {
     "data": {
      "text/html": [
       "<div>\n",
       "<style scoped>\n",
       "    .dataframe tbody tr th:only-of-type {\n",
       "        vertical-align: middle;\n",
       "    }\n",
       "\n",
       "    .dataframe tbody tr th {\n",
       "        vertical-align: top;\n",
       "    }\n",
       "\n",
       "    .dataframe thead th {\n",
       "        text-align: right;\n",
       "    }\n",
       "</style>\n",
       "<table border=\"1\" class=\"dataframe\">\n",
       "  <thead>\n",
       "    <tr style=\"text-align: right;\">\n",
       "      <th></th>\n",
       "      <th>Year</th>\n",
       "      <th>Selling_Price</th>\n",
       "      <th>Present_Price</th>\n",
       "      <th>Kms_Driven</th>\n",
       "      <th>Owner</th>\n",
       "    </tr>\n",
       "  </thead>\n",
       "  <tbody>\n",
       "    <tr>\n",
       "      <th>count</th>\n",
       "      <td>301.000000</td>\n",
       "      <td>301.000000</td>\n",
       "      <td>301.000000</td>\n",
       "      <td>301.000000</td>\n",
       "      <td>301.000000</td>\n",
       "    </tr>\n",
       "    <tr>\n",
       "      <th>mean</th>\n",
       "      <td>2013.627907</td>\n",
       "      <td>4.661296</td>\n",
       "      <td>7.628472</td>\n",
       "      <td>36947.205980</td>\n",
       "      <td>0.043189</td>\n",
       "    </tr>\n",
       "    <tr>\n",
       "      <th>std</th>\n",
       "      <td>2.891554</td>\n",
       "      <td>5.082812</td>\n",
       "      <td>8.644115</td>\n",
       "      <td>38886.883882</td>\n",
       "      <td>0.247915</td>\n",
       "    </tr>\n",
       "    <tr>\n",
       "      <th>min</th>\n",
       "      <td>2003.000000</td>\n",
       "      <td>0.100000</td>\n",
       "      <td>0.320000</td>\n",
       "      <td>500.000000</td>\n",
       "      <td>0.000000</td>\n",
       "    </tr>\n",
       "    <tr>\n",
       "      <th>25%</th>\n",
       "      <td>2012.000000</td>\n",
       "      <td>0.900000</td>\n",
       "      <td>1.200000</td>\n",
       "      <td>15000.000000</td>\n",
       "      <td>0.000000</td>\n",
       "    </tr>\n",
       "    <tr>\n",
       "      <th>50%</th>\n",
       "      <td>2014.000000</td>\n",
       "      <td>3.600000</td>\n",
       "      <td>6.400000</td>\n",
       "      <td>32000.000000</td>\n",
       "      <td>0.000000</td>\n",
       "    </tr>\n",
       "    <tr>\n",
       "      <th>75%</th>\n",
       "      <td>2016.000000</td>\n",
       "      <td>6.000000</td>\n",
       "      <td>9.900000</td>\n",
       "      <td>48767.000000</td>\n",
       "      <td>0.000000</td>\n",
       "    </tr>\n",
       "    <tr>\n",
       "      <th>max</th>\n",
       "      <td>2018.000000</td>\n",
       "      <td>35.000000</td>\n",
       "      <td>92.600000</td>\n",
       "      <td>500000.000000</td>\n",
       "      <td>3.000000</td>\n",
       "    </tr>\n",
       "  </tbody>\n",
       "</table>\n",
       "</div>"
      ],
      "text/plain": [
       "              Year  Selling_Price  Present_Price     Kms_Driven       Owner\n",
       "count   301.000000     301.000000     301.000000     301.000000  301.000000\n",
       "mean   2013.627907       4.661296       7.628472   36947.205980    0.043189\n",
       "std       2.891554       5.082812       8.644115   38886.883882    0.247915\n",
       "min    2003.000000       0.100000       0.320000     500.000000    0.000000\n",
       "25%    2012.000000       0.900000       1.200000   15000.000000    0.000000\n",
       "50%    2014.000000       3.600000       6.400000   32000.000000    0.000000\n",
       "75%    2016.000000       6.000000       9.900000   48767.000000    0.000000\n",
       "max    2018.000000      35.000000      92.600000  500000.000000    3.000000"
      ]
     },
     "execution_count": 8,
     "metadata": {},
     "output_type": "execute_result"
    }
   ],
   "source": [
    "df.describe()"
   ]
  },
  {
   "cell_type": "code",
   "execution_count": 9,
   "metadata": {},
   "outputs": [
    {
     "data": {
      "text/html": [
       "<div>\n",
       "<style scoped>\n",
       "    .dataframe tbody tr th:only-of-type {\n",
       "        vertical-align: middle;\n",
       "    }\n",
       "\n",
       "    .dataframe tbody tr th {\n",
       "        vertical-align: top;\n",
       "    }\n",
       "\n",
       "    .dataframe thead th {\n",
       "        text-align: right;\n",
       "    }\n",
       "</style>\n",
       "<table border=\"1\" class=\"dataframe\">\n",
       "  <thead>\n",
       "    <tr style=\"text-align: right;\">\n",
       "      <th></th>\n",
       "      <th>Year</th>\n",
       "      <th>Selling_Price</th>\n",
       "      <th>Present_Price</th>\n",
       "      <th>Kms_Driven</th>\n",
       "      <th>Owner</th>\n",
       "    </tr>\n",
       "  </thead>\n",
       "  <tbody>\n",
       "    <tr>\n",
       "      <th>Year</th>\n",
       "      <td>1.000000</td>\n",
       "      <td>0.236141</td>\n",
       "      <td>-0.047584</td>\n",
       "      <td>-0.524342</td>\n",
       "      <td>-0.182104</td>\n",
       "    </tr>\n",
       "    <tr>\n",
       "      <th>Selling_Price</th>\n",
       "      <td>0.236141</td>\n",
       "      <td>1.000000</td>\n",
       "      <td>0.878983</td>\n",
       "      <td>0.029187</td>\n",
       "      <td>-0.088344</td>\n",
       "    </tr>\n",
       "    <tr>\n",
       "      <th>Present_Price</th>\n",
       "      <td>-0.047584</td>\n",
       "      <td>0.878983</td>\n",
       "      <td>1.000000</td>\n",
       "      <td>0.203647</td>\n",
       "      <td>0.008057</td>\n",
       "    </tr>\n",
       "    <tr>\n",
       "      <th>Kms_Driven</th>\n",
       "      <td>-0.524342</td>\n",
       "      <td>0.029187</td>\n",
       "      <td>0.203647</td>\n",
       "      <td>1.000000</td>\n",
       "      <td>0.089216</td>\n",
       "    </tr>\n",
       "    <tr>\n",
       "      <th>Owner</th>\n",
       "      <td>-0.182104</td>\n",
       "      <td>-0.088344</td>\n",
       "      <td>0.008057</td>\n",
       "      <td>0.089216</td>\n",
       "      <td>1.000000</td>\n",
       "    </tr>\n",
       "  </tbody>\n",
       "</table>\n",
       "</div>"
      ],
      "text/plain": [
       "                   Year  Selling_Price  Present_Price  Kms_Driven     Owner\n",
       "Year           1.000000       0.236141      -0.047584   -0.524342 -0.182104\n",
       "Selling_Price  0.236141       1.000000       0.878983    0.029187 -0.088344\n",
       "Present_Price -0.047584       0.878983       1.000000    0.203647  0.008057\n",
       "Kms_Driven    -0.524342       0.029187       0.203647    1.000000  0.089216\n",
       "Owner         -0.182104      -0.088344       0.008057    0.089216  1.000000"
      ]
     },
     "execution_count": 9,
     "metadata": {},
     "output_type": "execute_result"
    }
   ],
   "source": [
    "df.corr()"
   ]
  },
  {
   "cell_type": "code",
   "execution_count": 10,
   "metadata": {},
   "outputs": [
    {
     "data": {
      "image/png": "[encoded data removed]",
      "text/plain": [
       "<Figure size 864x576 with 1 Axes>"
      ]
     },
     "metadata": {
      "needs_background": "light"
     },
     "output_type": "display_data"
    },
    {
     "data": {
      "image/png": "[encoded data removed]",
      "text/plain": [
       "<Figure size 864x576 with 1 Axes>"
      ]
     },
     "metadata": {
      "needs_background": "light"
     },
     "output_type": "display_data"
    },
    {
     "data": {
      "image/png": "[encoded data removed]",
      "text/plain": [
       "<Figure size 864x576 with 1 Axes>"
      ]
     },
     "metadata": {
      "needs_background": "light"
     },
     "output_type": "display_data"
    },
    {
     "data": {
      "image/png": "[encoded data removed]",
      "text/plain": [
       "<Figure size 864x576 with 1 Axes>"
      ]
     },
     "metadata": {
      "needs_background": "light"
     },
     "output_type": "display_data"
    },
    {
     "data": {
      "image/png": "[encoded data removed]",
      "text/plain": [
       "<Figure size 864x576 with 1 Axes>"
      ]
     },
     "metadata": {
      "needs_background": "light"
     },
     "output_type": "display_data"
    },
    {
     "data": {
      "image/png": "[encoded data removed]",
      "text/plain": [
       "<Figure size 864x576 with 1 Axes>"
      ]
     },
     "metadata": {
      "needs_background": "light"
     },
     "output_type": "display_data"
    },
    {
     "data": {
      "image/png": "[encoded data removed]",
      "text/plain": [
       "<Figure size 864x576 with 1 Axes>"
      ]
     },
     "metadata": {
      "needs_background": "light"
     },
     "output_type": "display_data"
    },
    {
     "data": {
      "image/png": "[encoded data removed]",
      "text/plain": [
       "<Figure size 864x576 with 1 Axes>"
      ]
     },
     "metadata": {
      "needs_background": "light"
     },
     "output_type": "display_data"
    }
   ],
   "source": [
    "for i,col in enumerate(df.drop(\"Car_Name\", axis=1).columns):\n",
    "    plt.figure(i)\n",
    "    sns.histplot(df[col])"
   ]
  },
  {
   "cell_type": "code",
   "execution_count": 11,
   "metadata": {},
   "outputs": [
    {
     "data": {
      "image/png": "[encoded data removed]",
      "text/plain": [
       "<Figure size 864x576 with 2 Axes>"
      ]
     },
     "metadata": {
      "needs_background": "light"
     },
     "output_type": "display_data"
    }
   ],
   "source": [
    "sns.heatmap(df.corr(), annot=True)\n",
    "plt.show()"
   ]
  },
  {
   "cell_type": "code",
   "execution_count": 12,
   "metadata": {},
   "outputs": [
    {
     "data": {
      "text/html": [
       "<div>\n",
       "<style scoped>\n",
       "    .dataframe tbody tr th:only-of-type {\n",
       "        vertical-align: middle;\n",
       "    }\n",
       "\n",
       "    .dataframe tbody tr th {\n",
       "        vertical-align: top;\n",
       "    }\n",
       "\n",
       "    .dataframe thead th {\n",
       "        text-align: right;\n",
       "    }\n",
       "</style>\n",
       "<table border=\"1\" class=\"dataframe\">\n",
       "  <thead>\n",
       "    <tr style=\"text-align: right;\">\n",
       "      <th></th>\n",
       "      <th>Car_Name</th>\n",
       "      <th>Year</th>\n",
       "      <th>Selling_Price</th>\n",
       "      <th>Present_Price</th>\n",
       "      <th>Kms_Driven</th>\n",
       "      <th>Fuel_Type</th>\n",
       "      <th>Seller_Type</th>\n",
       "      <th>Transmission</th>\n",
       "      <th>Owner</th>\n",
       "    </tr>\n",
       "  </thead>\n",
       "  <tbody>\n",
       "    <tr>\n",
       "      <th>0</th>\n",
       "      <td>ritz</td>\n",
       "      <td>2014</td>\n",
       "      <td>3.35</td>\n",
       "      <td>5.59</td>\n",
       "      <td>27000</td>\n",
       "      <td>Petrol</td>\n",
       "      <td>Dealer</td>\n",
       "      <td>Manual</td>\n",
       "      <td>0</td>\n",
       "    </tr>\n",
       "    <tr>\n",
       "      <th>1</th>\n",
       "      <td>sx4</td>\n",
       "      <td>2013</td>\n",
       "      <td>4.75</td>\n",
       "      <td>9.54</td>\n",
       "      <td>43000</td>\n",
       "      <td>Diesel</td>\n",
       "      <td>Dealer</td>\n",
       "      <td>Manual</td>\n",
       "      <td>0</td>\n",
       "    </tr>\n",
       "    <tr>\n",
       "      <th>2</th>\n",
       "      <td>ciaz</td>\n",
       "      <td>2017</td>\n",
       "      <td>7.25</td>\n",
       "      <td>9.85</td>\n",
       "      <td>6900</td>\n",
       "      <td>Petrol</td>\n",
       "      <td>Dealer</td>\n",
       "      <td>Manual</td>\n",
       "      <td>0</td>\n",
       "    </tr>\n",
       "    <tr>\n",
       "      <th>3</th>\n",
       "      <td>wagon r</td>\n",
       "      <td>2011</td>\n",
       "      <td>2.85</td>\n",
       "      <td>4.15</td>\n",
       "      <td>5200</td>\n",
       "      <td>Petrol</td>\n",
       "      <td>Dealer</td>\n",
       "      <td>Manual</td>\n",
       "      <td>0</td>\n",
       "    </tr>\n",
       "    <tr>\n",
       "      <th>4</th>\n",
       "      <td>swift</td>\n",
       "      <td>2014</td>\n",
       "      <td>4.60</td>\n",
       "      <td>6.87</td>\n",
       "      <td>42450</td>\n",
       "      <td>Diesel</td>\n",
       "      <td>Dealer</td>\n",
       "      <td>Manual</td>\n",
       "      <td>0</td>\n",
       "    </tr>\n",
       "  </tbody>\n",
       "</table>\n",
       "</div>"
      ],
      "text/plain": [
       "  Car_Name  Year  Selling_Price  Present_Price  Kms_Driven Fuel_Type Seller_Type Transmission  Owner\n",
       "0     ritz  2014           3.35           5.59       27000    Petrol      Dealer       Manual      0\n",
       "1      sx4  2013           4.75           9.54       43000    Diesel      Dealer       Manual      0\n",
       "2     ciaz  2017           7.25           9.85        6900    Petrol      Dealer       Manual      0\n",
       "3  wagon r  2011           2.85           4.15        5200    Petrol      Dealer       Manual      0\n",
       "4    swift  2014           4.60           6.87       42450    Diesel      Dealer       Manual      0"
      ]
     },
     "execution_count": 12,
     "metadata": {},
     "output_type": "execute_result"
    }
   ],
   "source": [
    "df.head()"
   ]
  },
  {
   "cell_type": "markdown",
   "metadata": {
    "id": "12PKntblbV9C"
   },
   "source": [
    "# Feature Engineering"
   ]
  },
  {
   "cell_type": "markdown",
   "metadata": {
    "id": "P49wP0afbV9E"
   },
   "source": [
    "<ul>Fuel_Type feature:\n",
    "    <li>Fuel is Petrol if Fuel_type_diesel = 0 ,Fuel_Type_Petrol = 1</li>\n",
    "    <li>Fuel is Diesel if Fuel_type_diesel = 1 ,Fuel_Type_Petrol = 0</li>\n",
    "    <li>Fuel is cng if Fuel_type_diesel = 0 ,Fuel_Type_Petrol = 0</li>\n",
    "   </ul>\n",
    "<ul>Transmission feature:\n",
    "    <li>transmission is manual if Transmission_Manual = 1</li> \n",
    "    <li>transmission is automatic if Transmission_Manual = 0</li></ul>\n",
    "<ul>Seller_Type feature:\n",
    "    <li>Seller_Type is Individual if Seller_Type_Individual = 1 </li> \n",
    "    <li>Seller_Type is dealer if Seller_Type_Individual = 0</li> </ul>\n",
    "    \n"
   ]
  },
  {
   "cell_type": "markdown",
   "metadata": {},
   "source": [
    "**Creating \"Age\" column and dropping \"Year\" column**"
   ]
  },
  {
   "cell_type": "code",
   "execution_count": 13,
   "metadata": {},
   "outputs": [
    {
     "data": {
      "text/plain": [
       "2021"
      ]
     },
     "execution_count": 13,
     "metadata": {},
     "output_type": "execute_result"
    }
   ],
   "source": [
    "import datetime\n",
    "datetime.datetime.now().year"
   ]
  },
  {
   "cell_type": "code",
   "execution_count": 14,
   "metadata": {},
   "outputs": [],
   "source": [
    "df[\"Age\"] = datetime.datetime.now().year - df.Year"
   ]
  },
  {
   "cell_type": "code",
   "execution_count": 15,
   "metadata": {},
   "outputs": [
    {
     "data": {
      "text/html": [
       "<div>\n",
       "<style scoped>\n",
       "    .dataframe tbody tr th:only-of-type {\n",
       "        vertical-align: middle;\n",
       "    }\n",
       "\n",
       "    .dataframe tbody tr th {\n",
       "        vertical-align: top;\n",
       "    }\n",
       "\n",
       "    .dataframe thead th {\n",
       "        text-align: right;\n",
       "    }\n",
       "</style>\n",
       "<table border=\"1\" class=\"dataframe\">\n",
       "  <thead>\n",
       "    <tr style=\"text-align: right;\">\n",
       "      <th></th>\n",
       "      <th>Car_Name</th>\n",
       "      <th>Year</th>\n",
       "      <th>Selling_Price</th>\n",
       "      <th>Present_Price</th>\n",
       "      <th>Kms_Driven</th>\n",
       "      <th>Fuel_Type</th>\n",
       "      <th>Seller_Type</th>\n",
       "      <th>Transmission</th>\n",
       "      <th>Owner</th>\n",
       "      <th>Age</th>\n",
       "    </tr>\n",
       "  </thead>\n",
       "  <tbody>\n",
       "    <tr>\n",
       "      <th>0</th>\n",
       "      <td>ritz</td>\n",
       "      <td>2014</td>\n",
       "      <td>3.35</td>\n",
       "      <td>5.59</td>\n",
       "      <td>27000</td>\n",
       "      <td>Petrol</td>\n",
       "      <td>Dealer</td>\n",
       "      <td>Manual</td>\n",
       "      <td>0</td>\n",
       "      <td>7</td>\n",
       "    </tr>\n",
       "    <tr>\n",
       "      <th>1</th>\n",
       "      <td>sx4</td>\n",
       "      <td>2013</td>\n",
       "      <td>4.75</td>\n",
       "      <td>9.54</td>\n",
       "      <td>43000</td>\n",
       "      <td>Diesel</td>\n",
       "      <td>Dealer</td>\n",
       "      <td>Manual</td>\n",
       "      <td>0</td>\n",
       "      <td>8</td>\n",
       "    </tr>\n",
       "    <tr>\n",
       "      <th>2</th>\n",
       "      <td>ciaz</td>\n",
       "      <td>2017</td>\n",
       "      <td>7.25</td>\n",
       "      <td>9.85</td>\n",
       "      <td>6900</td>\n",
       "      <td>Petrol</td>\n",
       "      <td>Dealer</td>\n",
       "      <td>Manual</td>\n",
       "      <td>0</td>\n",
       "      <td>4</td>\n",
       "    </tr>\n",
       "    <tr>\n",
       "      <th>3</th>\n",
       "      <td>wagon r</td>\n",
       "      <td>2011</td>\n",
       "      <td>2.85</td>\n",
       "      <td>4.15</td>\n",
       "      <td>5200</td>\n",
       "      <td>Petrol</td>\n",
       "      <td>Dealer</td>\n",
       "      <td>Manual</td>\n",
       "      <td>0</td>\n",
       "      <td>10</td>\n",
       "    </tr>\n",
       "    <tr>\n",
       "      <th>4</th>\n",
       "      <td>swift</td>\n",
       "      <td>2014</td>\n",
       "      <td>4.60</td>\n",
       "      <td>6.87</td>\n",
       "      <td>42450</td>\n",
       "      <td>Diesel</td>\n",
       "      <td>Dealer</td>\n",
       "      <td>Manual</td>\n",
       "      <td>0</td>\n",
       "      <td>7</td>\n",
       "    </tr>\n",
       "  </tbody>\n",
       "</table>\n",
       "</div>"
      ],
      "text/plain": [
       "  Car_Name  Year  Selling_Price  Present_Price  Kms_Driven Fuel_Type Seller_Type Transmission  Owner  Age\n",
       "0     ritz  2014           3.35           5.59       27000    Petrol      Dealer       Manual      0    7\n",
       "1      sx4  2013           4.75           9.54       43000    Diesel      Dealer       Manual      0    8\n",
       "2     ciaz  2017           7.25           9.85        6900    Petrol      Dealer       Manual      0    4\n",
       "3  wagon r  2011           2.85           4.15        5200    Petrol      Dealer       Manual      0   10\n",
       "4    swift  2014           4.60           6.87       42450    Diesel      Dealer       Manual      0    7"
      ]
     },
     "execution_count": 15,
     "metadata": {},
     "output_type": "execute_result"
    }
   ],
   "source": [
    "df.head()"
   ]
  },
  {
   "cell_type": "code",
   "execution_count": 16,
   "metadata": {},
   "outputs": [],
   "source": [
    "df.drop([\"Car_Name\", \"Year\"], axis=1, inplace=True)\n",
    "# df.drop(columns=[\"Car_Name\", \"Year\"], inplace=True)"
   ]
  },
  {
   "cell_type": "code",
   "execution_count": 17,
   "metadata": {},
   "outputs": [],
   "source": [
    "# This code does all the steps defined in \"Dealing with Fuel_Type\", \n",
    "# \"Dealing with Transmission\", and \"Dealing with Seller_Type\" by itself.\n",
    "\n",
    "df=pd.get_dummies(df, drop_first=True)\n",
    "# It helps in reducing the extra column created during dummy variable creation. \n",
    "# Hence it reduces the correlations created among dummy variables."
   ]
  },
  {
   "cell_type": "markdown",
   "metadata": {},
   "source": [
    "**Dealing with Fuel_Type**"
   ]
  },
  {
   "cell_type": "code",
   "execution_count": 18,
   "metadata": {},
   "outputs": [],
   "source": [
    "# pd.get_dummies(df.Fuel_Type)"
   ]
  },
  {
   "cell_type": "code",
   "execution_count": 19,
   "metadata": {},
   "outputs": [],
   "source": [
    "# pd.DataFrame(pd.get_dummies(df.Fuel_Type))"
   ]
  },
  {
   "cell_type": "code",
   "execution_count": 20,
   "metadata": {},
   "outputs": [],
   "source": [
    "# df = pd.concat([df, pd.get_dummies(df.Fuel_Type)], axis=1)"
   ]
  },
  {
   "cell_type": "code",
   "execution_count": 21,
   "metadata": {},
   "outputs": [],
   "source": [
    "# df.drop(\"Fuel_Type\", axis=1, inplace=True)"
   ]
  },
  {
   "cell_type": "markdown",
   "metadata": {},
   "source": [
    "**Dealing with Transmission**"
   ]
  },
  {
   "cell_type": "code",
   "execution_count": 22,
   "metadata": {},
   "outputs": [],
   "source": [
    "# df.Transmission.unique()"
   ]
  },
  {
   "cell_type": "code",
   "execution_count": 23,
   "metadata": {},
   "outputs": [],
   "source": [
    "# df.Transmission = df.Transmission.map(lambda x: 0 if x==\"Automatic\" else 1)"
   ]
  },
  {
   "cell_type": "code",
   "execution_count": 24,
   "metadata": {},
   "outputs": [],
   "source": [
    "# df.Transmission.unique()"
   ]
  },
  {
   "cell_type": "markdown",
   "metadata": {},
   "source": [
    "**Dealing with Seller_Type**"
   ]
  },
  {
   "cell_type": "code",
   "execution_count": 25,
   "metadata": {},
   "outputs": [],
   "source": [
    "# df.Seller_Type.unique()"
   ]
  },
  {
   "cell_type": "code",
   "execution_count": 26,
   "metadata": {},
   "outputs": [],
   "source": [
    "# df.Seller_Type = df.Seller_Type.map(lambda x: 0 if x==\"Dealer\" else 1)"
   ]
  },
  {
   "cell_type": "code",
   "execution_count": 27,
   "metadata": {},
   "outputs": [],
   "source": [
    "# df.Seller_Type.unique()"
   ]
  },
  {
   "cell_type": "code",
   "execution_count": 28,
   "metadata": {},
   "outputs": [
    {
     "data": {
      "image/png": "[encoded data removed]",
      "text/plain": [
       "<Figure size 864x576 with 2 Axes>"
      ]
     },
     "metadata": {
      "needs_background": "light"
     },
     "output_type": "display_data"
    }
   ],
   "source": [
    "sns.heatmap(data=df.corr(), annot=True);"
   ]
  },
  {
   "cell_type": "code",
   "execution_count": 29,
   "metadata": {},
   "outputs": [
    {
     "data": {
      "text/html": [
       "<div>\n",
       "<style scoped>\n",
       "    .dataframe tbody tr th:only-of-type {\n",
       "        vertical-align: middle;\n",
       "    }\n",
       "\n",
       "    .dataframe tbody tr th {\n",
       "        vertical-align: top;\n",
       "    }\n",
       "\n",
       "    .dataframe thead th {\n",
       "        text-align: right;\n",
       "    }\n",
       "</style>\n",
       "<table border=\"1\" class=\"dataframe\">\n",
       "  <thead>\n",
       "    <tr style=\"text-align: right;\">\n",
       "      <th></th>\n",
       "      <th>Selling_Price</th>\n",
       "      <th>Present_Price</th>\n",
       "      <th>Kms_Driven</th>\n",
       "      <th>Owner</th>\n",
       "      <th>Age</th>\n",
       "      <th>Fuel_Type_Diesel</th>\n",
       "      <th>Fuel_Type_Petrol</th>\n",
       "      <th>Seller_Type_Individual</th>\n",
       "      <th>Transmission_Manual</th>\n",
       "    </tr>\n",
       "  </thead>\n",
       "  <tbody>\n",
       "    <tr>\n",
       "      <th>0</th>\n",
       "      <td>3.35</td>\n",
       "      <td>5.59</td>\n",
       "      <td>27000</td>\n",
       "      <td>0</td>\n",
       "      <td>7</td>\n",
       "      <td>0</td>\n",
       "      <td>1</td>\n",
       "      <td>0</td>\n",
       "      <td>1</td>\n",
       "    </tr>\n",
       "    <tr>\n",
       "      <th>1</th>\n",
       "      <td>4.75</td>\n",
       "      <td>9.54</td>\n",
       "      <td>43000</td>\n",
       "      <td>0</td>\n",
       "      <td>8</td>\n",
       "      <td>1</td>\n",
       "      <td>0</td>\n",
       "      <td>0</td>\n",
       "      <td>1</td>\n",
       "    </tr>\n",
       "    <tr>\n",
       "      <th>2</th>\n",
       "      <td>7.25</td>\n",
       "      <td>9.85</td>\n",
       "      <td>6900</td>\n",
       "      <td>0</td>\n",
       "      <td>4</td>\n",
       "      <td>0</td>\n",
       "      <td>1</td>\n",
       "      <td>0</td>\n",
       "      <td>1</td>\n",
       "    </tr>\n",
       "    <tr>\n",
       "      <th>3</th>\n",
       "      <td>2.85</td>\n",
       "      <td>4.15</td>\n",
       "      <td>5200</td>\n",
       "      <td>0</td>\n",
       "      <td>10</td>\n",
       "      <td>0</td>\n",
       "      <td>1</td>\n",
       "      <td>0</td>\n",
       "      <td>1</td>\n",
       "    </tr>\n",
       "    <tr>\n",
       "      <th>4</th>\n",
       "      <td>4.60</td>\n",
       "      <td>6.87</td>\n",
       "      <td>42450</td>\n",
       "      <td>0</td>\n",
       "      <td>7</td>\n",
       "      <td>1</td>\n",
       "      <td>0</td>\n",
       "      <td>0</td>\n",
       "      <td>1</td>\n",
       "    </tr>\n",
       "  </tbody>\n",
       "</table>\n",
       "</div>"
      ],
      "text/plain": [
       "   Selling_Price  Present_Price  Kms_Driven  Owner  Age  Fuel_Type_Diesel  Fuel_Type_Petrol  Seller_Type_Individual  Transmission_Manual\n",
       "0           3.35           5.59       27000      0    7                 0                 1                       0                    1\n",
       "1           4.75           9.54       43000      0    8                 1                 0                       0                    1\n",
       "2           7.25           9.85        6900      0    4                 0                 1                       0                    1\n",
       "3           2.85           4.15        5200      0   10                 0                 1                       0                    1\n",
       "4           4.60           6.87       42450      0    7                 1                 0                       0                    1"
      ]
     },
     "execution_count": 29,
     "metadata": {},
     "output_type": "execute_result"
    }
   ],
   "source": [
    "df.head()"
   ]
  },
  {
   "cell_type": "code",
   "execution_count": 30,
   "metadata": {},
   "outputs": [
    {
     "data": {
      "text/plain": [
       "(301, 9)"
      ]
     },
     "execution_count": 30,
     "metadata": {},
     "output_type": "execute_result"
    }
   ],
   "source": [
    "df.shape"
   ]
  },
  {
   "cell_type": "markdown",
   "metadata": {
    "id": "Pe9yr6oCbV9I"
   },
   "source": [
    "### Features and target variable"
   ]
  },
  {
   "cell_type": "code",
   "execution_count": 31,
   "metadata": {},
   "outputs": [],
   "source": [
    "X = df.drop(\"Selling_Price\", axis=True)"
   ]
  },
  {
   "cell_type": "code",
   "execution_count": 32,
   "metadata": {},
   "outputs": [],
   "source": [
    "y = df.Selling_Price"
   ]
  },
  {
   "cell_type": "markdown",
   "metadata": {},
   "source": [
    "# Regularization"
   ]
  },
  {
   "cell_type": "markdown",
   "metadata": {
    "id": "IxhZbAYsbV9L"
   },
   "source": [
    "### Splitting data into training and testing"
   ]
  },
  {
   "cell_type": "code",
   "execution_count": 33,
   "metadata": {
    "id": "aS1EZ-6bbV9N"
   },
   "outputs": [],
   "source": [
    "from sklearn.model_selection import train_test_split"
   ]
  },
  {
   "cell_type": "code",
   "execution_count": 34,
   "metadata": {},
   "outputs": [],
   "source": [
    "X_train, X_test, y_train, y_test = train_test_split(X, y, test_size=0.3, random_state=42)"
   ]
  },
  {
   "cell_type": "code",
   "execution_count": 35,
   "metadata": {},
   "outputs": [
    {
     "name": "stdout",
     "output_type": "stream",
     "text": [
      "Train features shape :  (240, 8)\n",
      "Train target shape   :  (240,)\n",
      "Test features shape  :  (61, 8)\n",
      "Test target shape    :  (61,)\n"
     ]
    }
   ],
   "source": [
    "print(\"Train features shape : \", X_train.shape)\n",
    "print(\"Train target shape   : \", y_train.shape)\n",
    "print(\"Test features shape  : \", X_test.shape)\n",
    "print(\"Test target shape    : \", y_test.shape)"
   ]
  },
  {
   "cell_type": "markdown",
   "metadata": {},
   "source": [
    "**Feature Scaling**"
   ]
  },
  {
   "cell_type": "code",
   "execution_count": 36,
   "metadata": {},
   "outputs": [],
   "source": [
    "from sklearn.preprocessing import StandardScaler, MinMaxScaler"
   ]
  },
  {
   "cell_type": "code",
   "execution_count": 37,
   "metadata": {},
   "outputs": [],
   "source": [
    "scaler=MinMaxScaler()\n",
    "scaler.fit(X_train)\n",
    "X_train=scaler.transform(X_train)\n",
    "X_test=scaler.transform(X_test)"
   ]
  },
  {
   "cell_type": "markdown",
   "metadata": {
    "id": "KMJ-3iGxbV9O"
   },
   "source": [
    "##  Model Building (Linear Regression)"
   ]
  },
  {
   "cell_type": "code",
   "execution_count": 38,
   "metadata": {
    "id": "VEOdF27LbV9P"
   },
   "outputs": [],
   "source": [
    "from sklearn.linear_model import LinearRegression"
   ]
  },
  {
   "cell_type": "code",
   "execution_count": 39,
   "metadata": {},
   "outputs": [],
   "source": [
    "# lm = LinearRegression(normalize=True).fit(X_train,y_train)\n",
    "# with normalize=True, we can scale our features."
   ]
  },
  {
   "cell_type": "code",
   "execution_count": 40,
   "metadata": {},
   "outputs": [],
   "source": [
    "lm = LinearRegression()"
   ]
  },
  {
   "cell_type": "code",
   "execution_count": 41,
   "metadata": {},
   "outputs": [
    {
     "data": {
      "text/plain": [
       "LinearRegression()"
      ]
     },
     "execution_count": 41,
     "metadata": {},
     "output_type": "execute_result"
    }
   ],
   "source": [
    "# We have just trained the model by fitting!!!!\n",
    "lm.fit(X_train, y_train)"
   ]
  },
  {
   "cell_type": "code",
   "execution_count": 42,
   "metadata": {
    "scrolled": true
   },
   "outputs": [
    {
     "data": {
      "text/plain": [
       "array([41.08840546, -3.97518007, -2.44073273, -4.78571647,  2.61924627,\n",
       "        0.60648687, -1.22016745, -1.00868282])"
      ]
     },
     "execution_count": 42,
     "metadata": {},
     "output_type": "execute_result"
    }
   ],
   "source": [
    "lm.coef_"
   ]
  },
  {
   "cell_type": "code",
   "execution_count": 43,
   "metadata": {},
   "outputs": [],
   "source": [
    "y_pred = lm.predict(X_test)"
   ]
  },
  {
   "cell_type": "code",
   "execution_count": 44,
   "metadata": {},
   "outputs": [],
   "source": [
    "from sklearn.metrics import mean_absolute_error,mean_squared_error, r2_score\n",
    "\n",
    "def eval_metrics(actual, pred):\n",
    "    mae = mean_absolute_error(actual, pred)\n",
    "    mse = mean_squared_error(actual, pred)\n",
    "    rmse = np.sqrt(mean_squared_error(actual, pred))\n",
    "    R2_score = r2_score(actual, pred)\n",
    "    print(\"Model testing performance:\")\n",
    "    print(\"--------------------------\")\n",
    "    print(f\"R2_score \\t: {R2_score}\")\n",
    "    print(f\"MAE \\t\\t: {mae}\")\n",
    "    print(f\"MSE \\t\\t: {mse}\")\n",
    "    print(f\"RMSE \\t\\t: {rmse}\")"
   ]
  },
  {
   "cell_type": "code",
   "execution_count": 45,
   "metadata": {},
   "outputs": [],
   "source": [
    "y_train_pred = lm.predict(X_train)"
   ]
  },
  {
   "cell_type": "code",
   "execution_count": 46,
   "metadata": {},
   "outputs": [
    {
     "name": "stdout",
     "output_type": "stream",
     "text": [
      "Model testing performance:\n",
      "--------------------------\n",
      "R2_score \t: 0.879844039130107\n",
      "MAE \t\t: 1.137457593394413\n",
      "MSE \t\t: 3.056095425123057\n",
      "RMSE \t\t: 1.7481691637604917\n"
     ]
    }
   ],
   "source": [
    "eval_metrics(y_train, y_train_pred)\n",
    "\n",
    "# We may have overfitting here! Since, it is kinda momental screen shot, we need to confirm it with CV."
   ]
  },
  {
   "cell_type": "code",
   "execution_count": 47,
   "metadata": {},
   "outputs": [
    {
     "name": "stdout",
     "output_type": "stream",
     "text": [
      "Model testing performance:\n",
      "--------------------------\n",
      "R2_score \t: 0.8589039971923134\n",
      "MAE \t\t: 1.1811769157076817\n",
      "MSE \t\t: 3.7871262249675848\n",
      "RMSE \t\t: 1.9460540138874833\n"
     ]
    }
   ],
   "source": [
    "eval_metrics(y_test, y_pred)"
   ]
  },
  {
   "cell_type": "code",
   "execution_count": 48,
   "metadata": {},
   "outputs": [
    {
     "data": {
      "text/html": [
       "<div>\n",
       "<style scoped>\n",
       "    .dataframe tbody tr th:only-of-type {\n",
       "        vertical-align: middle;\n",
       "    }\n",
       "\n",
       "    .dataframe tbody tr th {\n",
       "        vertical-align: top;\n",
       "    }\n",
       "\n",
       "    .dataframe thead th {\n",
       "        text-align: right;\n",
       "    }\n",
       "</style>\n",
       "<table border=\"1\" class=\"dataframe\">\n",
       "  <thead>\n",
       "    <tr style=\"text-align: right;\">\n",
       "      <th></th>\n",
       "      <th>lm_train</th>\n",
       "      <th>lm_test</th>\n",
       "    </tr>\n",
       "  </thead>\n",
       "  <tbody>\n",
       "    <tr>\n",
       "      <th>rmse</th>\n",
       "      <td>1.748169</td>\n",
       "      <td>1.946054</td>\n",
       "    </tr>\n",
       "    <tr>\n",
       "      <th>mae</th>\n",
       "      <td>1.137458</td>\n",
       "      <td>1.181177</td>\n",
       "    </tr>\n",
       "    <tr>\n",
       "      <th>mse</th>\n",
       "      <td>3.056095</td>\n",
       "      <td>3.787126</td>\n",
       "    </tr>\n",
       "    <tr>\n",
       "      <th>R2</th>\n",
       "      <td>0.879844</td>\n",
       "      <td>0.858904</td>\n",
       "    </tr>\n",
       "  </tbody>\n",
       "</table>\n",
       "</div>"
      ],
      "text/plain": [
       "      lm_train   lm_test\n",
       "rmse  1.748169  1.946054\n",
       "mae   1.137458  1.181177\n",
       "mse   3.056095  3.787126\n",
       "R2    0.879844  0.858904"
      ]
     },
     "execution_count": 48,
     "metadata": {},
     "output_type": "execute_result"
    }
   ],
   "source": [
    "lm_scores = {\"lm_train\": {\"rmse\" : np.sqrt(mean_squared_error(y_train, y_train_pred)),\n",
    "    \"mae\" : mean_absolute_error(y_train, y_train_pred),\n",
    "    \"mse\" : mean_squared_error(y_train, y_train_pred),\n",
    "    \"R2\" : r2_score(y_train, y_train_pred)}, \n",
    "\n",
    "    \"lm_test\": {\"rmse\" : np.sqrt(mean_squared_error(y_test, y_pred)),\n",
    "    \"mae\" : mean_absolute_error(y_test, y_pred),\n",
    "    \"mse\" : mean_squared_error(y_test, y_pred),\n",
    "    \"R2\" : r2_score(y_test, y_pred)}}\n",
    "ls =pd.DataFrame(lm_scores)\n",
    "ls"
   ]
  },
  {
   "cell_type": "code",
   "execution_count": 49,
   "metadata": {},
   "outputs": [
    {
     "data": {
      "image/png": "[encoded data removed]",
      "text/plain": [
       "<Figure size 576x396 with 1 Axes>"
      ]
     },
     "metadata": {},
     "output_type": "display_data"
    }
   ],
   "source": [
    "from yellowbrick.regressor import PredictionError\n",
    "# Instantiate the linear model and visualizer\n",
    "lm_1 = LinearRegression(normalize=True)\n",
    "visualizer = PredictionError(lm)\n",
    "visualizer.fit(X_train, y_train)  # Fit the training data to the visualizer\n",
    "visualizer.score(X_test, y_test)  # Evaluate the model on the test data\n",
    "visualizer.show(); "
   ]
  },
  {
   "cell_type": "code",
   "execution_count": 50,
   "metadata": {},
   "outputs": [
    {
     "data": {
      "text/html": [
       "<div>\n",
       "<style scoped>\n",
       "    .dataframe tbody tr th:only-of-type {\n",
       "        vertical-align: middle;\n",
       "    }\n",
       "\n",
       "    .dataframe tbody tr th {\n",
       "        vertical-align: top;\n",
       "    }\n",
       "\n",
       "    .dataframe thead th {\n",
       "        text-align: right;\n",
       "    }\n",
       "</style>\n",
       "<table border=\"1\" class=\"dataframe\">\n",
       "  <thead>\n",
       "    <tr style=\"text-align: right;\">\n",
       "      <th></th>\n",
       "      <th>Actual</th>\n",
       "      <th>Predicted</th>\n",
       "      <th>residul</th>\n",
       "    </tr>\n",
       "  </thead>\n",
       "  <tbody>\n",
       "    <tr>\n",
       "      <th>67</th>\n",
       "      <td>9.25</td>\n",
       "      <td>10.707296</td>\n",
       "      <td>-1.457296</td>\n",
       "    </tr>\n",
       "    <tr>\n",
       "      <th>99</th>\n",
       "      <td>9.65</td>\n",
       "      <td>10.875207</td>\n",
       "      <td>-1.225207</td>\n",
       "    </tr>\n",
       "    <tr>\n",
       "      <th>266</th>\n",
       "      <td>3.65</td>\n",
       "      <td>4.430969</td>\n",
       "      <td>-0.780969</td>\n",
       "    </tr>\n",
       "    <tr>\n",
       "      <th>222</th>\n",
       "      <td>6.00</td>\n",
       "      <td>5.913378</td>\n",
       "      <td>0.086622</td>\n",
       "    </tr>\n",
       "    <tr>\n",
       "      <th>24</th>\n",
       "      <td>2.90</td>\n",
       "      <td>2.549419</td>\n",
       "      <td>0.350581</td>\n",
       "    </tr>\n",
       "    <tr>\n",
       "      <th>282</th>\n",
       "      <td>8.25</td>\n",
       "      <td>9.036746</td>\n",
       "      <td>-0.786746</td>\n",
       "    </tr>\n",
       "    <tr>\n",
       "      <th>279</th>\n",
       "      <td>6.25</td>\n",
       "      <td>7.273781</td>\n",
       "      <td>-1.023781</td>\n",
       "    </tr>\n",
       "    <tr>\n",
       "      <th>138</th>\n",
       "      <td>0.60</td>\n",
       "      <td>1.493600</td>\n",
       "      <td>-0.893600</td>\n",
       "    </tr>\n",
       "    <tr>\n",
       "      <th>50</th>\n",
       "      <td>14.90</td>\n",
       "      <td>16.022866</td>\n",
       "      <td>-1.122866</td>\n",
       "    </tr>\n",
       "    <tr>\n",
       "      <th>234</th>\n",
       "      <td>5.50</td>\n",
       "      <td>4.741886</td>\n",
       "      <td>0.758114</td>\n",
       "    </tr>\n",
       "    <tr>\n",
       "      <th>43</th>\n",
       "      <td>5.50</td>\n",
       "      <td>6.714043</td>\n",
       "      <td>-1.214043</td>\n",
       "    </tr>\n",
       "    <tr>\n",
       "      <th>265</th>\n",
       "      <td>6.50</td>\n",
       "      <td>6.403204</td>\n",
       "      <td>0.096796</td>\n",
       "    </tr>\n",
       "    <tr>\n",
       "      <th>88</th>\n",
       "      <td>3.45</td>\n",
       "      <td>3.464445</td>\n",
       "      <td>-0.014445</td>\n",
       "    </tr>\n",
       "    <tr>\n",
       "      <th>84</th>\n",
       "      <td>3.49</td>\n",
       "      <td>3.414882</td>\n",
       "      <td>0.075118</td>\n",
       "    </tr>\n",
       "    <tr>\n",
       "      <th>163</th>\n",
       "      <td>0.45</td>\n",
       "      <td>-0.609546</td>\n",
       "      <td>1.059546</td>\n",
       "    </tr>\n",
       "    <tr>\n",
       "      <th>220</th>\n",
       "      <td>3.50</td>\n",
       "      <td>4.178550</td>\n",
       "      <td>-0.678550</td>\n",
       "    </tr>\n",
       "    <tr>\n",
       "      <th>98</th>\n",
       "      <td>7.05</td>\n",
       "      <td>9.094299</td>\n",
       "      <td>-2.044299</td>\n",
       "    </tr>\n",
       "    <tr>\n",
       "      <th>176</th>\n",
       "      <td>0.35</td>\n",
       "      <td>-0.302093</td>\n",
       "      <td>0.652093</td>\n",
       "    </tr>\n",
       "    <tr>\n",
       "      <th>60</th>\n",
       "      <td>6.95</td>\n",
       "      <td>9.187814</td>\n",
       "      <td>-2.237814</td>\n",
       "    </tr>\n",
       "    <tr>\n",
       "      <th>171</th>\n",
       "      <td>0.40</td>\n",
       "      <td>1.187336</td>\n",
       "      <td>-0.787336</td>\n",
       "    </tr>\n",
       "    <tr>\n",
       "      <th>90</th>\n",
       "      <td>3.80</td>\n",
       "      <td>7.500093</td>\n",
       "      <td>-3.700093</td>\n",
       "    </tr>\n",
       "    <tr>\n",
       "      <th>93</th>\n",
       "      <td>23.00</td>\n",
       "      <td>18.190466</td>\n",
       "      <td>4.809534</td>\n",
       "    </tr>\n",
       "    <tr>\n",
       "      <th>62</th>\n",
       "      <td>18.75</td>\n",
       "      <td>19.542693</td>\n",
       "      <td>-0.792693</td>\n",
       "    </tr>\n",
       "    <tr>\n",
       "      <th>123</th>\n",
       "      <td>1.00</td>\n",
       "      <td>0.214350</td>\n",
       "      <td>0.785650</td>\n",
       "    </tr>\n",
       "    <tr>\n",
       "      <th>42</th>\n",
       "      <td>1.95</td>\n",
       "      <td>2.153216</td>\n",
       "      <td>-0.203216</td>\n",
       "    </tr>\n",
       "  </tbody>\n",
       "</table>\n",
       "</div>"
      ],
      "text/plain": [
       "     Actual  Predicted   residul\n",
       "67     9.25  10.707296 -1.457296\n",
       "99     9.65  10.875207 -1.225207\n",
       "266    3.65   4.430969 -0.780969\n",
       "222    6.00   5.913378  0.086622\n",
       "24     2.90   2.549419  0.350581\n",
       "282    8.25   9.036746 -0.786746\n",
       "279    6.25   7.273781 -1.023781\n",
       "138    0.60   1.493600 -0.893600\n",
       "50    14.90  16.022866 -1.122866\n",
       "234    5.50   4.741886  0.758114\n",
       "43     5.50   6.714043 -1.214043\n",
       "265    6.50   6.403204  0.096796\n",
       "88     3.45   3.464445 -0.014445\n",
       "84     3.49   3.414882  0.075118\n",
       "163    0.45  -0.609546  1.059546\n",
       "220    3.50   4.178550 -0.678550\n",
       "98     7.05   9.094299 -2.044299\n",
       "176    0.35  -0.302093  0.652093\n",
       "60     6.95   9.187814 -2.237814\n",
       "171    0.40   1.187336 -0.787336\n",
       "90     3.80   7.500093 -3.700093\n",
       "93    23.00  18.190466  4.809534\n",
       "62    18.75  19.542693 -0.792693\n",
       "123    1.00   0.214350  0.785650\n",
       "42     1.95   2.153216 -0.203216"
      ]
     },
     "execution_count": 50,
     "metadata": {},
     "output_type": "execute_result"
    }
   ],
   "source": [
    "results = pd.DataFrame({'Actual': y_test, 'Predicted': y_pred, \"residul\":y_test - y_pred})\n",
    "\n",
    "result_sample = results.head(25)\n",
    "result_sample"
   ]
  },
  {
   "cell_type": "markdown",
   "metadata": {},
   "source": [
    "# Multicollineraity"
   ]
  },
  {
   "cell_type": "code",
   "execution_count": 51,
   "metadata": {},
   "outputs": [],
   "source": [
    "def color_red(val):\n",
    "    \n",
    "    if val > 0.90 and val < 0.99:\n",
    "        color = 'red'\n",
    "    else:\n",
    "        color = 'black'\n",
    "    return f'color: {color}'"
   ]
  },
  {
   "cell_type": "code",
   "execution_count": 52,
   "metadata": {
    "scrolled": true
   },
   "outputs": [
    {
     "data": {
      "text/html": [
       "<style  type=\"text/css\" >\n",
       "#T_9f91b1e7_2098_11ec_982b_7c7a91ce4603row0_col0,#T_9f91b1e7_2098_11ec_982b_7c7a91ce4603row0_col1,#T_9f91b1e7_2098_11ec_982b_7c7a91ce4603row0_col2,#T_9f91b1e7_2098_11ec_982b_7c7a91ce4603row0_col3,#T_9f91b1e7_2098_11ec_982b_7c7a91ce4603row0_col4,#T_9f91b1e7_2098_11ec_982b_7c7a91ce4603row0_col5,#T_9f91b1e7_2098_11ec_982b_7c7a91ce4603row0_col6,#T_9f91b1e7_2098_11ec_982b_7c7a91ce4603row0_col7,#T_9f91b1e7_2098_11ec_982b_7c7a91ce4603row1_col0,#T_9f91b1e7_2098_11ec_982b_7c7a91ce4603row1_col1,#T_9f91b1e7_2098_11ec_982b_7c7a91ce4603row1_col2,#T_9f91b1e7_2098_11ec_982b_7c7a91ce4603row1_col3,#T_9f91b1e7_2098_11ec_982b_7c7a91ce4603row1_col4,#T_9f91b1e7_2098_11ec_982b_7c7a91ce4603row1_col5,#T_9f91b1e7_2098_11ec_982b_7c7a91ce4603row1_col6,#T_9f91b1e7_2098_11ec_982b_7c7a91ce4603row1_col7,#T_9f91b1e7_2098_11ec_982b_7c7a91ce4603row2_col0,#T_9f91b1e7_2098_11ec_982b_7c7a91ce4603row2_col1,#T_9f91b1e7_2098_11ec_982b_7c7a91ce4603row2_col2,#T_9f91b1e7_2098_11ec_982b_7c7a91ce4603row2_col3,#T_9f91b1e7_2098_11ec_982b_7c7a91ce4603row2_col4,#T_9f91b1e7_2098_11ec_982b_7c7a91ce4603row2_col5,#T_9f91b1e7_2098_11ec_982b_7c7a91ce4603row2_col6,#T_9f91b1e7_2098_11ec_982b_7c7a91ce4603row2_col7,#T_9f91b1e7_2098_11ec_982b_7c7a91ce4603row3_col0,#T_9f91b1e7_2098_11ec_982b_7c7a91ce4603row3_col1,#T_9f91b1e7_2098_11ec_982b_7c7a91ce4603row3_col2,#T_9f91b1e7_2098_11ec_982b_7c7a91ce4603row3_col3,#T_9f91b1e7_2098_11ec_982b_7c7a91ce4603row3_col4,#T_9f91b1e7_2098_11ec_982b_7c7a91ce4603row3_col5,#T_9f91b1e7_2098_11ec_982b_7c7a91ce4603row3_col6,#T_9f91b1e7_2098_11ec_982b_7c7a91ce4603row3_col7,#T_9f91b1e7_2098_11ec_982b_7c7a91ce4603row4_col0,#T_9f91b1e7_2098_11ec_982b_7c7a91ce4603row4_col1,#T_9f91b1e7_2098_11ec_982b_7c7a91ce4603row4_col2,#T_9f91b1e7_2098_11ec_982b_7c7a91ce4603row4_col3,#T_9f91b1e7_2098_11ec_982b_7c7a91ce4603row4_col4,#T_9f91b1e7_2098_11ec_982b_7c7a91ce4603row4_col5,#T_9f91b1e7_2098_11ec_982b_7c7a91ce4603row4_col6,#T_9f91b1e7_2098_11ec_982b_7c7a91ce4603row4_col7,#T_9f91b1e7_2098_11ec_982b_7c7a91ce4603row5_col0,#T_9f91b1e7_2098_11ec_982b_7c7a91ce4603row5_col1,#T_9f91b1e7_2098_11ec_982b_7c7a91ce4603row5_col2,#T_9f91b1e7_2098_11ec_982b_7c7a91ce4603row5_col3,#T_9f91b1e7_2098_11ec_982b_7c7a91ce4603row5_col4,#T_9f91b1e7_2098_11ec_982b_7c7a91ce4603row5_col5,#T_9f91b1e7_2098_11ec_982b_7c7a91ce4603row5_col6,#T_9f91b1e7_2098_11ec_982b_7c7a91ce4603row5_col7,#T_9f91b1e7_2098_11ec_982b_7c7a91ce4603row6_col0,#T_9f91b1e7_2098_11ec_982b_7c7a91ce4603row6_col1,#T_9f91b1e7_2098_11ec_982b_7c7a91ce4603row6_col2,#T_9f91b1e7_2098_11ec_982b_7c7a91ce4603row6_col3,#T_9f91b1e7_2098_11ec_982b_7c7a91ce4603row6_col4,#T_9f91b1e7_2098_11ec_982b_7c7a91ce4603row6_col5,#T_9f91b1e7_2098_11ec_982b_7c7a91ce4603row6_col6,#T_9f91b1e7_2098_11ec_982b_7c7a91ce4603row6_col7,#T_9f91b1e7_2098_11ec_982b_7c7a91ce4603row7_col0,#T_9f91b1e7_2098_11ec_982b_7c7a91ce4603row7_col1,#T_9f91b1e7_2098_11ec_982b_7c7a91ce4603row7_col2,#T_9f91b1e7_2098_11ec_982b_7c7a91ce4603row7_col3,#T_9f91b1e7_2098_11ec_982b_7c7a91ce4603row7_col4,#T_9f91b1e7_2098_11ec_982b_7c7a91ce4603row7_col5,#T_9f91b1e7_2098_11ec_982b_7c7a91ce4603row7_col6,#T_9f91b1e7_2098_11ec_982b_7c7a91ce4603row7_col7{\n",
       "            color:  black;\n",
       "        }</style><table id=\"T_9f91b1e7_2098_11ec_982b_7c7a91ce4603\" ><thead>    <tr>        <th class=\"blank level0\" ></th>        <th class=\"col_heading level0 col0\" >Present_Price</th>        <th class=\"col_heading level0 col1\" >Kms_Driven</th>        <th class=\"col_heading level0 col2\" >Owner</th>        <th class=\"col_heading level0 col3\" >Age</th>        <th class=\"col_heading level0 col4\" >Fuel_Type_Diesel</th>        <th class=\"col_heading level0 col5\" >Fuel_Type_Petrol</th>        <th class=\"col_heading level0 col6\" >Seller_Type_Individual</th>        <th class=\"col_heading level0 col7\" >Transmission_Manual</th>    </tr></thead><tbody>\n",
       "                <tr>\n",
       "                        <th id=\"T_9f91b1e7_2098_11ec_982b_7c7a91ce4603level0_row0\" class=\"row_heading level0 row0\" >Present_Price</th>\n",
       "                        <td id=\"T_9f91b1e7_2098_11ec_982b_7c7a91ce4603row0_col0\" class=\"data row0 col0\" >1.000000</td>\n",
       "                        <td id=\"T_9f91b1e7_2098_11ec_982b_7c7a91ce4603row0_col1\" class=\"data row0 col1\" >0.203647</td>\n",
       "                        <td id=\"T_9f91b1e7_2098_11ec_982b_7c7a91ce4603row0_col2\" class=\"data row0 col2\" >0.008057</td>\n",
       "                        <td id=\"T_9f91b1e7_2098_11ec_982b_7c7a91ce4603row0_col3\" class=\"data row0 col3\" >0.047584</td>\n",
       "                        <td id=\"T_9f91b1e7_2098_11ec_982b_7c7a91ce4603row0_col4\" class=\"data row0 col4\" >0.473306</td>\n",
       "                        <td id=\"T_9f91b1e7_2098_11ec_982b_7c7a91ce4603row0_col5\" class=\"data row0 col5\" >-0.465244</td>\n",
       "                        <td id=\"T_9f91b1e7_2098_11ec_982b_7c7a91ce4603row0_col6\" class=\"data row0 col6\" >-0.512030</td>\n",
       "                        <td id=\"T_9f91b1e7_2098_11ec_982b_7c7a91ce4603row0_col7\" class=\"data row0 col7\" >-0.348715</td>\n",
       "            </tr>\n",
       "            <tr>\n",
       "                        <th id=\"T_9f91b1e7_2098_11ec_982b_7c7a91ce4603level0_row1\" class=\"row_heading level0 row1\" >Kms_Driven</th>\n",
       "                        <td id=\"T_9f91b1e7_2098_11ec_982b_7c7a91ce4603row1_col0\" class=\"data row1 col0\" >0.203647</td>\n",
       "                        <td id=\"T_9f91b1e7_2098_11ec_982b_7c7a91ce4603row1_col1\" class=\"data row1 col1\" >1.000000</td>\n",
       "                        <td id=\"T_9f91b1e7_2098_11ec_982b_7c7a91ce4603row1_col2\" class=\"data row1 col2\" >0.089216</td>\n",
       "                        <td id=\"T_9f91b1e7_2098_11ec_982b_7c7a91ce4603row1_col3\" class=\"data row1 col3\" >0.524342</td>\n",
       "                        <td id=\"T_9f91b1e7_2098_11ec_982b_7c7a91ce4603row1_col4\" class=\"data row1 col4\" >0.172515</td>\n",
       "                        <td id=\"T_9f91b1e7_2098_11ec_982b_7c7a91ce4603row1_col5\" class=\"data row1 col5\" >-0.172874</td>\n",
       "                        <td id=\"T_9f91b1e7_2098_11ec_982b_7c7a91ce4603row1_col6\" class=\"data row1 col6\" >-0.101419</td>\n",
       "                        <td id=\"T_9f91b1e7_2098_11ec_982b_7c7a91ce4603row1_col7\" class=\"data row1 col7\" >-0.162510</td>\n",
       "            </tr>\n",
       "            <tr>\n",
       "                        <th id=\"T_9f91b1e7_2098_11ec_982b_7c7a91ce4603level0_row2\" class=\"row_heading level0 row2\" >Owner</th>\n",
       "                        <td id=\"T_9f91b1e7_2098_11ec_982b_7c7a91ce4603row2_col0\" class=\"data row2 col0\" >0.008057</td>\n",
       "                        <td id=\"T_9f91b1e7_2098_11ec_982b_7c7a91ce4603row2_col1\" class=\"data row2 col1\" >0.089216</td>\n",
       "                        <td id=\"T_9f91b1e7_2098_11ec_982b_7c7a91ce4603row2_col2\" class=\"data row2 col2\" >1.000000</td>\n",
       "                        <td id=\"T_9f91b1e7_2098_11ec_982b_7c7a91ce4603row2_col3\" class=\"data row2 col3\" >0.182104</td>\n",
       "                        <td id=\"T_9f91b1e7_2098_11ec_982b_7c7a91ce4603row2_col4\" class=\"data row2 col4\" >-0.053469</td>\n",
       "                        <td id=\"T_9f91b1e7_2098_11ec_982b_7c7a91ce4603row2_col5\" class=\"data row2 col5\" >0.055687</td>\n",
       "                        <td id=\"T_9f91b1e7_2098_11ec_982b_7c7a91ce4603row2_col6\" class=\"data row2 col6\" >0.124269</td>\n",
       "                        <td id=\"T_9f91b1e7_2098_11ec_982b_7c7a91ce4603row2_col7\" class=\"data row2 col7\" >-0.050316</td>\n",
       "            </tr>\n",
       "            <tr>\n",
       "                        <th id=\"T_9f91b1e7_2098_11ec_982b_7c7a91ce4603level0_row3\" class=\"row_heading level0 row3\" >Age</th>\n",
       "                        <td id=\"T_9f91b1e7_2098_11ec_982b_7c7a91ce4603row3_col0\" class=\"data row3 col0\" >0.047584</td>\n",
       "                        <td id=\"T_9f91b1e7_2098_11ec_982b_7c7a91ce4603row3_col1\" class=\"data row3 col1\" >0.524342</td>\n",
       "                        <td id=\"T_9f91b1e7_2098_11ec_982b_7c7a91ce4603row3_col2\" class=\"data row3 col2\" >0.182104</td>\n",
       "                        <td id=\"T_9f91b1e7_2098_11ec_982b_7c7a91ce4603row3_col3\" class=\"data row3 col3\" >1.000000</td>\n",
       "                        <td id=\"T_9f91b1e7_2098_11ec_982b_7c7a91ce4603row3_col4\" class=\"data row3 col4\" >-0.064315</td>\n",
       "                        <td id=\"T_9f91b1e7_2098_11ec_982b_7c7a91ce4603row3_col5\" class=\"data row3 col5\" >0.059959</td>\n",
       "                        <td id=\"T_9f91b1e7_2098_11ec_982b_7c7a91ce4603row3_col6\" class=\"data row3 col6\" >0.039896</td>\n",
       "                        <td id=\"T_9f91b1e7_2098_11ec_982b_7c7a91ce4603row3_col7\" class=\"data row3 col7\" >-0.000394</td>\n",
       "            </tr>\n",
       "            <tr>\n",
       "                        <th id=\"T_9f91b1e7_2098_11ec_982b_7c7a91ce4603level0_row4\" class=\"row_heading level0 row4\" >Fuel_Type_Diesel</th>\n",
       "                        <td id=\"T_9f91b1e7_2098_11ec_982b_7c7a91ce4603row4_col0\" class=\"data row4 col0\" >0.473306</td>\n",
       "                        <td id=\"T_9f91b1e7_2098_11ec_982b_7c7a91ce4603row4_col1\" class=\"data row4 col1\" >0.172515</td>\n",
       "                        <td id=\"T_9f91b1e7_2098_11ec_982b_7c7a91ce4603row4_col2\" class=\"data row4 col2\" >-0.053469</td>\n",
       "                        <td id=\"T_9f91b1e7_2098_11ec_982b_7c7a91ce4603row4_col3\" class=\"data row4 col3\" >-0.064315</td>\n",
       "                        <td id=\"T_9f91b1e7_2098_11ec_982b_7c7a91ce4603row4_col4\" class=\"data row4 col4\" >1.000000</td>\n",
       "                        <td id=\"T_9f91b1e7_2098_11ec_982b_7c7a91ce4603row4_col5\" class=\"data row4 col5\" >-0.979648</td>\n",
       "                        <td id=\"T_9f91b1e7_2098_11ec_982b_7c7a91ce4603row4_col6\" class=\"data row4 col6\" >-0.350467</td>\n",
       "                        <td id=\"T_9f91b1e7_2098_11ec_982b_7c7a91ce4603row4_col7\" class=\"data row4 col7\" >-0.098643</td>\n",
       "            </tr>\n",
       "            <tr>\n",
       "                        <th id=\"T_9f91b1e7_2098_11ec_982b_7c7a91ce4603level0_row5\" class=\"row_heading level0 row5\" >Fuel_Type_Petrol</th>\n",
       "                        <td id=\"T_9f91b1e7_2098_11ec_982b_7c7a91ce4603row5_col0\" class=\"data row5 col0\" >-0.465244</td>\n",
       "                        <td id=\"T_9f91b1e7_2098_11ec_982b_7c7a91ce4603row5_col1\" class=\"data row5 col1\" >-0.172874</td>\n",
       "                        <td id=\"T_9f91b1e7_2098_11ec_982b_7c7a91ce4603row5_col2\" class=\"data row5 col2\" >0.055687</td>\n",
       "                        <td id=\"T_9f91b1e7_2098_11ec_982b_7c7a91ce4603row5_col3\" class=\"data row5 col3\" >0.059959</td>\n",
       "                        <td id=\"T_9f91b1e7_2098_11ec_982b_7c7a91ce4603row5_col4\" class=\"data row5 col4\" >-0.979648</td>\n",
       "                        <td id=\"T_9f91b1e7_2098_11ec_982b_7c7a91ce4603row5_col5\" class=\"data row5 col5\" >1.000000</td>\n",
       "                        <td id=\"T_9f91b1e7_2098_11ec_982b_7c7a91ce4603row5_col6\" class=\"data row5 col6\" >0.358321</td>\n",
       "                        <td id=\"T_9f91b1e7_2098_11ec_982b_7c7a91ce4603row5_col7\" class=\"data row5 col7\" >0.091013</td>\n",
       "            </tr>\n",
       "            <tr>\n",
       "                        <th id=\"T_9f91b1e7_2098_11ec_982b_7c7a91ce4603level0_row6\" class=\"row_heading level0 row6\" >Seller_Type_Individual</th>\n",
       "                        <td id=\"T_9f91b1e7_2098_11ec_982b_7c7a91ce4603row6_col0\" class=\"data row6 col0\" >-0.512030</td>\n",
       "                        <td id=\"T_9f91b1e7_2098_11ec_982b_7c7a91ce4603row6_col1\" class=\"data row6 col1\" >-0.101419</td>\n",
       "                        <td id=\"T_9f91b1e7_2098_11ec_982b_7c7a91ce4603row6_col2\" class=\"data row6 col2\" >0.124269</td>\n",
       "                        <td id=\"T_9f91b1e7_2098_11ec_982b_7c7a91ce4603row6_col3\" class=\"data row6 col3\" >0.039896</td>\n",
       "                        <td id=\"T_9f91b1e7_2098_11ec_982b_7c7a91ce4603row6_col4\" class=\"data row6 col4\" >-0.350467</td>\n",
       "                        <td id=\"T_9f91b1e7_2098_11ec_982b_7c7a91ce4603row6_col5\" class=\"data row6 col5\" >0.358321</td>\n",
       "                        <td id=\"T_9f91b1e7_2098_11ec_982b_7c7a91ce4603row6_col6\" class=\"data row6 col6\" >1.000000</td>\n",
       "                        <td id=\"T_9f91b1e7_2098_11ec_982b_7c7a91ce4603row6_col7\" class=\"data row6 col7\" >0.063240</td>\n",
       "            </tr>\n",
       "            <tr>\n",
       "                        <th id=\"T_9f91b1e7_2098_11ec_982b_7c7a91ce4603level0_row7\" class=\"row_heading level0 row7\" >Transmission_Manual</th>\n",
       "                        <td id=\"T_9f91b1e7_2098_11ec_982b_7c7a91ce4603row7_col0\" class=\"data row7 col0\" >-0.348715</td>\n",
       "                        <td id=\"T_9f91b1e7_2098_11ec_982b_7c7a91ce4603row7_col1\" class=\"data row7 col1\" >-0.162510</td>\n",
       "                        <td id=\"T_9f91b1e7_2098_11ec_982b_7c7a91ce4603row7_col2\" class=\"data row7 col2\" >-0.050316</td>\n",
       "                        <td id=\"T_9f91b1e7_2098_11ec_982b_7c7a91ce4603row7_col3\" class=\"data row7 col3\" >-0.000394</td>\n",
       "                        <td id=\"T_9f91b1e7_2098_11ec_982b_7c7a91ce4603row7_col4\" class=\"data row7 col4\" >-0.098643</td>\n",
       "                        <td id=\"T_9f91b1e7_2098_11ec_982b_7c7a91ce4603row7_col5\" class=\"data row7 col5\" >0.091013</td>\n",
       "                        <td id=\"T_9f91b1e7_2098_11ec_982b_7c7a91ce4603row7_col6\" class=\"data row7 col6\" >0.063240</td>\n",
       "                        <td id=\"T_9f91b1e7_2098_11ec_982b_7c7a91ce4603row7_col7\" class=\"data row7 col7\" >1.000000</td>\n",
       "            </tr>\n",
       "    </tbody></table>"
      ],
      "text/plain": [
       "<pandas.io.formats.style.Styler at 0x2a23c33dd00>"
      ]
     },
     "execution_count": 52,
     "metadata": {},
     "output_type": "execute_result"
    }
   ],
   "source": [
    "pd.DataFrame(X).corr().style.applymap(color_red)\n",
    "\n",
    "# It is seen that we do not have some multicollineraity."
   ]
  },
  {
   "cell_type": "markdown",
   "metadata": {},
   "source": [
    "**Let's apply CROSS VALIDATE**"
   ]
  },
  {
   "cell_type": "code",
   "execution_count": 53,
   "metadata": {},
   "outputs": [],
   "source": [
    "# from sklearn.metrics import SCORERS\n",
    "# list(SCORERS.keys())"
   ]
  },
  {
   "cell_type": "code",
   "execution_count": 54,
   "metadata": {},
   "outputs": [],
   "source": [
    "from sklearn.model_selection import cross_validate, cross_val_score"
   ]
  },
  {
   "cell_type": "code",
   "execution_count": 55,
   "metadata": {},
   "outputs": [],
   "source": [
    "model = LinearRegression()\n",
    "scores = cross_validate(model, X_train, y_train, scoring = ['r2', 'neg_mean_absolute_error','neg_mean_squared_error', \\\n",
    "                                                            'neg_root_mean_squared_error'], cv = 10)"
   ]
  },
  {
   "cell_type": "code",
   "execution_count": 56,
   "metadata": {
    "scrolled": true
   },
   "outputs": [
    {
     "data": {
      "text/html": [
       "<div>\n",
       "<style scoped>\n",
       "    .dataframe tbody tr th:only-of-type {\n",
       "        vertical-align: middle;\n",
       "    }\n",
       "\n",
       "    .dataframe tbody tr th {\n",
       "        vertical-align: top;\n",
       "    }\n",
       "\n",
       "    .dataframe thead th {\n",
       "        text-align: right;\n",
       "    }\n",
       "</style>\n",
       "<table border=\"1\" class=\"dataframe\">\n",
       "  <thead>\n",
       "    <tr style=\"text-align: right;\">\n",
       "      <th></th>\n",
       "      <th>fit_time</th>\n",
       "      <th>score_time</th>\n",
       "      <th>test_r2</th>\n",
       "      <th>test_neg_mean_absolute_error</th>\n",
       "      <th>test_neg_mean_squared_error</th>\n",
       "      <th>test_neg_root_mean_squared_error</th>\n",
       "    </tr>\n",
       "  </thead>\n",
       "  <tbody>\n",
       "    <tr>\n",
       "      <th>1</th>\n",
       "      <td>0.001999</td>\n",
       "      <td>0.001998</td>\n",
       "      <td>0.769094</td>\n",
       "      <td>-1.204380</td>\n",
       "      <td>-2.666563</td>\n",
       "      <td>-1.632961</td>\n",
       "    </tr>\n",
       "    <tr>\n",
       "      <th>2</th>\n",
       "      <td>0.000999</td>\n",
       "      <td>0.009995</td>\n",
       "      <td>0.830450</td>\n",
       "      <td>-0.985817</td>\n",
       "      <td>-1.853752</td>\n",
       "      <td>-1.361526</td>\n",
       "    </tr>\n",
       "    <tr>\n",
       "      <th>3</th>\n",
       "      <td>0.001999</td>\n",
       "      <td>0.001999</td>\n",
       "      <td>0.931165</td>\n",
       "      <td>-0.971937</td>\n",
       "      <td>-2.247659</td>\n",
       "      <td>-1.499219</td>\n",
       "    </tr>\n",
       "    <tr>\n",
       "      <th>4</th>\n",
       "      <td>0.001999</td>\n",
       "      <td>0.001998</td>\n",
       "      <td>0.789661</td>\n",
       "      <td>-1.082373</td>\n",
       "      <td>-2.614008</td>\n",
       "      <td>-1.616789</td>\n",
       "    </tr>\n",
       "    <tr>\n",
       "      <th>5</th>\n",
       "      <td>0.001999</td>\n",
       "      <td>0.002000</td>\n",
       "      <td>0.940047</td>\n",
       "      <td>-0.938976</td>\n",
       "      <td>-2.020757</td>\n",
       "      <td>-1.421533</td>\n",
       "    </tr>\n",
       "    <tr>\n",
       "      <th>6</th>\n",
       "      <td>0.001998</td>\n",
       "      <td>0.002000</td>\n",
       "      <td>0.828540</td>\n",
       "      <td>-1.238033</td>\n",
       "      <td>-2.479987</td>\n",
       "      <td>-1.574797</td>\n",
       "    </tr>\n",
       "    <tr>\n",
       "      <th>7</th>\n",
       "      <td>0.001998</td>\n",
       "      <td>0.002000</td>\n",
       "      <td>0.834102</td>\n",
       "      <td>-1.564159</td>\n",
       "      <td>-9.818400</td>\n",
       "      <td>-3.133433</td>\n",
       "    </tr>\n",
       "    <tr>\n",
       "      <th>8</th>\n",
       "      <td>0.002999</td>\n",
       "      <td>0.002997</td>\n",
       "      <td>0.443491</td>\n",
       "      <td>-1.383927</td>\n",
       "      <td>-4.684201</td>\n",
       "      <td>-2.164302</td>\n",
       "    </tr>\n",
       "    <tr>\n",
       "      <th>9</th>\n",
       "      <td>0.001998</td>\n",
       "      <td>0.002000</td>\n",
       "      <td>0.670128</td>\n",
       "      <td>-1.229297</td>\n",
       "      <td>-4.021533</td>\n",
       "      <td>-2.005376</td>\n",
       "    </tr>\n",
       "    <tr>\n",
       "      <th>10</th>\n",
       "      <td>0.001999</td>\n",
       "      <td>0.002997</td>\n",
       "      <td>0.680031</td>\n",
       "      <td>-1.776592</td>\n",
       "      <td>-15.869029</td>\n",
       "      <td>-3.983595</td>\n",
       "    </tr>\n",
       "  </tbody>\n",
       "</table>\n",
       "</div>"
      ],
      "text/plain": [
       "    fit_time  score_time   test_r2  test_neg_mean_absolute_error  test_neg_mean_squared_error  test_neg_root_mean_squared_error\n",
       "1   0.001999    0.001998  0.769094                     -1.204380                    -2.666563                         -1.632961\n",
       "2   0.000999    0.009995  0.830450                     -0.985817                    -1.853752                         -1.361526\n",
       "3   0.001999    0.001999  0.931165                     -0.971937                    -2.247659                         -1.499219\n",
       "4   0.001999    0.001998  0.789661                     -1.082373                    -2.614008                         -1.616789\n",
       "5   0.001999    0.002000  0.940047                     -0.938976                    -2.020757                         -1.421533\n",
       "6   0.001998    0.002000  0.828540                     -1.238033                    -2.479987                         -1.574797\n",
       "7   0.001998    0.002000  0.834102                     -1.564159                    -9.818400                         -3.133433\n",
       "8   0.002999    0.002997  0.443491                     -1.383927                    -4.684201                         -2.164302\n",
       "9   0.001998    0.002000  0.670128                     -1.229297                    -4.021533                         -2.005376\n",
       "10  0.001999    0.002997  0.680031                     -1.776592                   -15.869029                         -3.983595"
      ]
     },
     "execution_count": 56,
     "metadata": {},
     "output_type": "execute_result"
    }
   ],
   "source": [
    "pd.DataFrame(scores, index = range(1, 11))"
   ]
  },
  {
   "cell_type": "code",
   "execution_count": 57,
   "metadata": {},
   "outputs": [
    {
     "data": {
      "text/plain": [
       "test_r2                             0.771671\n",
       "test_neg_mean_absolute_error       -1.237549\n",
       "test_neg_mean_squared_error        -4.827589\n",
       "test_neg_root_mean_squared_error   -2.039353\n",
       "dtype: float64"
      ]
     },
     "execution_count": 57,
     "metadata": {},
     "output_type": "execute_result"
    }
   ],
   "source": [
    "scores = pd.DataFrame(scores, index = range(1, 11))\n",
    "scores.iloc[:,2:].mean()"
   ]
  },
  {
   "cell_type": "code",
   "execution_count": 58,
   "metadata": {},
   "outputs": [
    {
     "name": "stdout",
     "output_type": "stream",
     "text": [
      "Model testing performance:\n",
      "--------------------------\n",
      "R2_score \t: 0.8589039971923134\n",
      "MAE \t\t: 1.1811769157076817\n",
      "MSE \t\t: 3.7871262249675848\n",
      "RMSE \t\t: 1.9460540138874833\n"
     ]
    }
   ],
   "source": [
    "# eval_metrics(y_test, y_pred)"
   ]
  },
  {
   "cell_type": "code",
   "execution_count": 59,
   "metadata": {},
   "outputs": [
    {
     "data": {
      "image/png": "[encoded data removed]",
      "text/plain": [
       "<Figure size 576x396 with 1 Axes>"
      ]
     },
     "metadata": {},
     "output_type": "display_data"
    }
   ],
   "source": [
    "sns.lineplot(data = scores.iloc[:,2:]);"
   ]
  },
  {
   "cell_type": "code",
   "execution_count": 60,
   "metadata": {},
   "outputs": [
    {
     "data": {
      "text/html": [
       "<div>\n",
       "<style scoped>\n",
       "    .dataframe tbody tr th:only-of-type {\n",
       "        vertical-align: middle;\n",
       "    }\n",
       "\n",
       "    .dataframe tbody tr th {\n",
       "        vertical-align: top;\n",
       "    }\n",
       "\n",
       "    .dataframe thead th {\n",
       "        text-align: right;\n",
       "    }\n",
       "</style>\n",
       "<table border=\"1\" class=\"dataframe\">\n",
       "  <thead>\n",
       "    <tr style=\"text-align: right;\">\n",
       "      <th></th>\n",
       "      <th>lm_coef</th>\n",
       "    </tr>\n",
       "  </thead>\n",
       "  <tbody>\n",
       "    <tr>\n",
       "      <th>0</th>\n",
       "      <td>41.088405</td>\n",
       "    </tr>\n",
       "    <tr>\n",
       "      <th>1</th>\n",
       "      <td>-3.975180</td>\n",
       "    </tr>\n",
       "    <tr>\n",
       "      <th>2</th>\n",
       "      <td>-2.440733</td>\n",
       "    </tr>\n",
       "    <tr>\n",
       "      <th>3</th>\n",
       "      <td>-4.785716</td>\n",
       "    </tr>\n",
       "    <tr>\n",
       "      <th>4</th>\n",
       "      <td>2.619246</td>\n",
       "    </tr>\n",
       "    <tr>\n",
       "      <th>5</th>\n",
       "      <td>0.606487</td>\n",
       "    </tr>\n",
       "    <tr>\n",
       "      <th>6</th>\n",
       "      <td>-1.220167</td>\n",
       "    </tr>\n",
       "    <tr>\n",
       "      <th>7</th>\n",
       "      <td>-1.008683</td>\n",
       "    </tr>\n",
       "  </tbody>\n",
       "</table>\n",
       "</div>"
      ],
      "text/plain": [
       "     lm_coef\n",
       "0  41.088405\n",
       "1  -3.975180\n",
       "2  -2.440733\n",
       "3  -4.785716\n",
       "4   2.619246\n",
       "5   0.606487\n",
       "6  -1.220167\n",
       "7  -1.008683"
      ]
     },
     "execution_count": 60,
     "metadata": {},
     "output_type": "execute_result"
    }
   ],
   "source": [
    "lm_df = pd.DataFrame(lm.coef_, columns = [\"lm_coef\"])\n",
    "lm_df"
   ]
  },
  {
   "cell_type": "markdown",
   "metadata": {
    "id": "6T7pkytsbV9Q"
   },
   "source": [
    "# Interpret the model"
   ]
  },
  {
   "cell_type": "markdown",
   "metadata": {
    "id": "Xf8mmQdSbV9R"
   },
   "source": [
    "# Model Evaluation"
   ]
  },
  {
   "cell_type": "code",
   "execution_count": 61,
   "metadata": {
    "id": "TS-KF0JtbV9R"
   },
   "outputs": [
    {
     "data": {
      "text/html": [
       "<div>\n",
       "<style scoped>\n",
       "    .dataframe tbody tr th:only-of-type {\n",
       "        vertical-align: middle;\n",
       "    }\n",
       "\n",
       "    .dataframe tbody tr th {\n",
       "        vertical-align: top;\n",
       "    }\n",
       "\n",
       "    .dataframe thead th {\n",
       "        text-align: right;\n",
       "    }\n",
       "</style>\n",
       "<table border=\"1\" class=\"dataframe\">\n",
       "  <thead>\n",
       "    <tr style=\"text-align: right;\">\n",
       "      <th></th>\n",
       "      <th>Actual</th>\n",
       "      <th>pred</th>\n",
       "      <th>residual</th>\n",
       "    </tr>\n",
       "  </thead>\n",
       "  <tbody>\n",
       "    <tr>\n",
       "      <th>67</th>\n",
       "      <td>9.25</td>\n",
       "      <td>10.707296</td>\n",
       "      <td>-1.457296</td>\n",
       "    </tr>\n",
       "    <tr>\n",
       "      <th>99</th>\n",
       "      <td>9.65</td>\n",
       "      <td>10.875207</td>\n",
       "      <td>-1.225207</td>\n",
       "    </tr>\n",
       "    <tr>\n",
       "      <th>266</th>\n",
       "      <td>3.65</td>\n",
       "      <td>4.430969</td>\n",
       "      <td>-0.780969</td>\n",
       "    </tr>\n",
       "    <tr>\n",
       "      <th>222</th>\n",
       "      <td>6.00</td>\n",
       "      <td>5.913378</td>\n",
       "      <td>0.086622</td>\n",
       "    </tr>\n",
       "    <tr>\n",
       "      <th>24</th>\n",
       "      <td>2.90</td>\n",
       "      <td>2.549419</td>\n",
       "      <td>0.350581</td>\n",
       "    </tr>\n",
       "    <tr>\n",
       "      <th>282</th>\n",
       "      <td>8.25</td>\n",
       "      <td>9.036746</td>\n",
       "      <td>-0.786746</td>\n",
       "    </tr>\n",
       "    <tr>\n",
       "      <th>279</th>\n",
       "      <td>6.25</td>\n",
       "      <td>7.273781</td>\n",
       "      <td>-1.023781</td>\n",
       "    </tr>\n",
       "    <tr>\n",
       "      <th>138</th>\n",
       "      <td>0.60</td>\n",
       "      <td>1.493600</td>\n",
       "      <td>-0.893600</td>\n",
       "    </tr>\n",
       "    <tr>\n",
       "      <th>50</th>\n",
       "      <td>14.90</td>\n",
       "      <td>16.022866</td>\n",
       "      <td>-1.122866</td>\n",
       "    </tr>\n",
       "    <tr>\n",
       "      <th>234</th>\n",
       "      <td>5.50</td>\n",
       "      <td>4.741886</td>\n",
       "      <td>0.758114</td>\n",
       "    </tr>\n",
       "    <tr>\n",
       "      <th>43</th>\n",
       "      <td>5.50</td>\n",
       "      <td>6.714043</td>\n",
       "      <td>-1.214043</td>\n",
       "    </tr>\n",
       "    <tr>\n",
       "      <th>265</th>\n",
       "      <td>6.50</td>\n",
       "      <td>6.403204</td>\n",
       "      <td>0.096796</td>\n",
       "    </tr>\n",
       "    <tr>\n",
       "      <th>88</th>\n",
       "      <td>3.45</td>\n",
       "      <td>3.464445</td>\n",
       "      <td>-0.014445</td>\n",
       "    </tr>\n",
       "    <tr>\n",
       "      <th>84</th>\n",
       "      <td>3.49</td>\n",
       "      <td>3.414882</td>\n",
       "      <td>0.075118</td>\n",
       "    </tr>\n",
       "    <tr>\n",
       "      <th>163</th>\n",
       "      <td>0.45</td>\n",
       "      <td>-0.609546</td>\n",
       "      <td>1.059546</td>\n",
       "    </tr>\n",
       "    <tr>\n",
       "      <th>220</th>\n",
       "      <td>3.50</td>\n",
       "      <td>4.178550</td>\n",
       "      <td>-0.678550</td>\n",
       "    </tr>\n",
       "    <tr>\n",
       "      <th>98</th>\n",
       "      <td>7.05</td>\n",
       "      <td>9.094299</td>\n",
       "      <td>-2.044299</td>\n",
       "    </tr>\n",
       "    <tr>\n",
       "      <th>176</th>\n",
       "      <td>0.35</td>\n",
       "      <td>-0.302093</td>\n",
       "      <td>0.652093</td>\n",
       "    </tr>\n",
       "    <tr>\n",
       "      <th>60</th>\n",
       "      <td>6.95</td>\n",
       "      <td>9.187814</td>\n",
       "      <td>-2.237814</td>\n",
       "    </tr>\n",
       "    <tr>\n",
       "      <th>171</th>\n",
       "      <td>0.40</td>\n",
       "      <td>1.187336</td>\n",
       "      <td>-0.787336</td>\n",
       "    </tr>\n",
       "  </tbody>\n",
       "</table>\n",
       "</div>"
      ],
      "text/plain": [
       "     Actual       pred  residual\n",
       "67     9.25  10.707296 -1.457296\n",
       "99     9.65  10.875207 -1.225207\n",
       "266    3.65   4.430969 -0.780969\n",
       "222    6.00   5.913378  0.086622\n",
       "24     2.90   2.549419  0.350581\n",
       "282    8.25   9.036746 -0.786746\n",
       "279    6.25   7.273781 -1.023781\n",
       "138    0.60   1.493600 -0.893600\n",
       "50    14.90  16.022866 -1.122866\n",
       "234    5.50   4.741886  0.758114\n",
       "43     5.50   6.714043 -1.214043\n",
       "265    6.50   6.403204  0.096796\n",
       "88     3.45   3.464445 -0.014445\n",
       "84     3.49   3.414882  0.075118\n",
       "163    0.45  -0.609546  1.059546\n",
       "220    3.50   4.178550 -0.678550\n",
       "98     7.05   9.094299 -2.044299\n",
       "176    0.35  -0.302093  0.652093\n",
       "60     6.95   9.187814 -2.237814\n",
       "171    0.40   1.187336 -0.787336"
      ]
     },
     "execution_count": 61,
     "metadata": {},
     "output_type": "execute_result"
    }
   ],
   "source": [
    "my_dict = {\"Actual\": y_test, \"pred\": y_pred, \"residual\": y_test-y_pred}\n",
    "compare = pd.DataFrame(my_dict)\n",
    "compare.head(20)"
   ]
  },
  {
   "cell_type": "markdown",
   "metadata": {
    "id": "PbnRHneJbV9T"
   },
   "source": [
    "# Ridge"
   ]
  },
  {
   "cell_type": "code",
   "execution_count": 98,
   "metadata": {
    "id": "sLbDL68AbV9V"
   },
   "outputs": [],
   "source": [
    "from sklearn.linear_model import Ridge, RidgeCV"
   ]
  },
  {
   "cell_type": "code",
   "execution_count": 63,
   "metadata": {},
   "outputs": [
    {
     "data": {
      "text/plain": [
       "array([0.01, 0.02, 0.03, 0.04, 0.05, 0.06, 0.07, 0.08, 0.09, 0.1 , 0.11,\n",
       "       0.12, 0.13, 0.14, 0.15, 0.16, 0.17, 0.18, 0.19, 0.2 , 0.21, 0.22,\n",
       "       0.23, 0.24, 0.25, 0.26, 0.27, 0.28, 0.29, 0.3 , 0.31, 0.32, 0.33,\n",
       "       0.34, 0.35, 0.36, 0.37, 0.38, 0.39, 0.4 , 0.41, 0.42, 0.43, 0.44,\n",
       "       0.45, 0.46, 0.47, 0.48, 0.49, 0.5 , 0.51, 0.52, 0.53, 0.54, 0.55,\n",
       "       0.56, 0.57, 0.58, 0.59, 0.6 , 0.61, 0.62, 0.63, 0.64, 0.65, 0.66,\n",
       "       0.67, 0.68, 0.69, 0.7 , 0.71, 0.72, 0.73, 0.74, 0.75, 0.76, 0.77,\n",
       "       0.78, 0.79, 0.8 , 0.81, 0.82, 0.83, 0.84, 0.85, 0.86, 0.87, 0.88,\n",
       "       0.89, 0.9 , 0.91, 0.92, 0.93, 0.94, 0.95, 0.96, 0.97, 0.98, 0.99,\n",
       "       1.  ])"
      ]
     },
     "execution_count": 63,
     "metadata": {},
     "output_type": "execute_result"
    }
   ],
   "source": [
    "alpha_space = np.linspace(0.01, 1, 100)\n",
    "alpha_space"
   ]
  },
  {
   "cell_type": "code",
   "execution_count": 64,
   "metadata": {},
   "outputs": [],
   "source": [
    "ridge_cv_model = RidgeCV(alphas = alpha_space, cv = 10, scoring = \"neg_root_mean_squared_error\")"
   ]
  },
  {
   "cell_type": "code",
   "execution_count": 65,
   "metadata": {},
   "outputs": [
    {
     "data": {
      "text/plain": [
       "RidgeCV(alphas=array([0.01, 0.02, 0.03, 0.04, 0.05, 0.06, 0.07, 0.08, 0.09, 0.1 , 0.11,\n",
       "       0.12, 0.13, 0.14, 0.15, 0.16, 0.17, 0.18, 0.19, 0.2 , 0.21, 0.22,\n",
       "       0.23, 0.24, 0.25, 0.26, 0.27, 0.28, 0.29, 0.3 , 0.31, 0.32, 0.33,\n",
       "       0.34, 0.35, 0.36, 0.37, 0.38, 0.39, 0.4 , 0.41, 0.42, 0.43, 0.44,\n",
       "       0.45, 0.46, 0.47, 0.48, 0.49, 0.5 , 0.51, 0.52, 0.53, 0.54, 0.55,\n",
       "       0.56, 0.57, 0.58, 0.59, 0.6 , 0.61, 0.62, 0.63, 0.64, 0.65, 0.66,\n",
       "       0.67, 0.68, 0.69, 0.7 , 0.71, 0.72, 0.73, 0.74, 0.75, 0.76, 0.77,\n",
       "       0.78, 0.79, 0.8 , 0.81, 0.82, 0.83, 0.84, 0.85, 0.86, 0.87, 0.88,\n",
       "       0.89, 0.9 , 0.91, 0.92, 0.93, 0.94, 0.95, 0.96, 0.97, 0.98, 0.99,\n",
       "       1.  ]),\n",
       "        cv=10, scoring='neg_root_mean_squared_error')"
      ]
     },
     "execution_count": 65,
     "metadata": {},
     "output_type": "execute_result"
    }
   ],
   "source": [
    "ridge_cv_model.fit(X_train, y_train)"
   ]
  },
  {
   "cell_type": "code",
   "execution_count": 66,
   "metadata": {},
   "outputs": [
    {
     "data": {
      "text/plain": [
       "0.21000000000000002"
      ]
     },
     "execution_count": 66,
     "metadata": {},
     "output_type": "execute_result"
    }
   ],
   "source": [
    "ridge_cv_model.alpha_"
   ]
  },
  {
   "cell_type": "code",
   "execution_count": 67,
   "metadata": {},
   "outputs": [],
   "source": [
    "y_pred = ridge_cv_model.predict(X_test)"
   ]
  },
  {
   "cell_type": "code",
   "execution_count": 68,
   "metadata": {},
   "outputs": [
    {
     "name": "stdout",
     "output_type": "stream",
     "text": [
      "Model testing performance:\n",
      "--------------------------\n",
      "R2_score \t: 0.876774110944526\n",
      "MAE \t\t: 1.1383013489225144\n",
      "MSE \t\t: 3.3074785022294644\n",
      "RMSE \t\t: 1.8186474375836192\n"
     ]
    }
   ],
   "source": [
    "eval_metrics(y_test, y_pred)"
   ]
  },
  {
   "cell_type": "code",
   "execution_count": 69,
   "metadata": {},
   "outputs": [
    {
     "name": "stdout",
     "output_type": "stream",
     "text": [
      "Model testing performance:\n",
      "--------------------------\n",
      "R2_score \t: 0.8725358849939033\n",
      "MAE \t\t: 1.1915048765012448\n",
      "MSE \t\t: 3.2419739804610646\n",
      "RMSE \t\t: 1.8005482444136465\n"
     ]
    }
   ],
   "source": [
    "y_train_pred = ridge_cv_model.predict(X_train)\n",
    "eval_metrics(y_train, y_train_pred) "
   ]
  },
  {
   "cell_type": "code",
   "execution_count": 70,
   "metadata": {},
   "outputs": [
    {
     "data": {
      "text/html": [
       "<div>\n",
       "<style scoped>\n",
       "    .dataframe tbody tr th:only-of-type {\n",
       "        vertical-align: middle;\n",
       "    }\n",
       "\n",
       "    .dataframe tbody tr th {\n",
       "        vertical-align: top;\n",
       "    }\n",
       "\n",
       "    .dataframe thead th {\n",
       "        text-align: right;\n",
       "    }\n",
       "</style>\n",
       "<table border=\"1\" class=\"dataframe\">\n",
       "  <thead>\n",
       "    <tr style=\"text-align: right;\">\n",
       "      <th></th>\n",
       "      <th>ridge_cv_train</th>\n",
       "      <th>ridge_cv_test</th>\n",
       "    </tr>\n",
       "  </thead>\n",
       "  <tbody>\n",
       "    <tr>\n",
       "      <th>rmse</th>\n",
       "      <td>1.800548</td>\n",
       "      <td>1.818647</td>\n",
       "    </tr>\n",
       "    <tr>\n",
       "      <th>mae</th>\n",
       "      <td>1.191505</td>\n",
       "      <td>1.138301</td>\n",
       "    </tr>\n",
       "    <tr>\n",
       "      <th>mse</th>\n",
       "      <td>3.241974</td>\n",
       "      <td>3.307479</td>\n",
       "    </tr>\n",
       "    <tr>\n",
       "      <th>R2</th>\n",
       "      <td>0.872536</td>\n",
       "      <td>0.876774</td>\n",
       "    </tr>\n",
       "  </tbody>\n",
       "</table>\n",
       "</div>"
      ],
      "text/plain": [
       "      ridge_cv_train  ridge_cv_test\n",
       "rmse        1.800548       1.818647\n",
       "mae         1.191505       1.138301\n",
       "mse         3.241974       3.307479\n",
       "R2          0.872536       0.876774"
      ]
     },
     "execution_count": 70,
     "metadata": {},
     "output_type": "execute_result"
    }
   ],
   "source": [
    "ridge_cv_scores = {\"ridge_cv_train\": {\"rmse\" : np.sqrt(mean_squared_error(y_train, y_train_pred)),\n",
    "    \"mae\" : mean_absolute_error(y_train, y_train_pred),\n",
    "    \"mse\" : mean_squared_error(y_train, y_train_pred),\n",
    "    \"R2\" : r2_score(y_train, y_train_pred)}, \n",
    "\n",
    "    \"ridge_cv_test\": {\"rmse\" : np.sqrt(mean_squared_error(y_test, y_pred)),\n",
    "    \"mae\" : mean_absolute_error(y_test, y_pred),\n",
    "    \"mse\" : mean_squared_error(y_test, y_pred),\n",
    "    \"R2\" : r2_score(y_test, y_pred)}}\n",
    "rcs = pd.DataFrame(ridge_cv_scores)\n",
    "rcs"
   ]
  },
  {
   "cell_type": "code",
   "execution_count": 71,
   "metadata": {},
   "outputs": [
    {
     "data": {
      "text/html": [
       "<div>\n",
       "<style scoped>\n",
       "    .dataframe tbody tr th:only-of-type {\n",
       "        vertical-align: middle;\n",
       "    }\n",
       "\n",
       "    .dataframe tbody tr th {\n",
       "        vertical-align: top;\n",
       "    }\n",
       "\n",
       "    .dataframe thead th {\n",
       "        text-align: right;\n",
       "    }\n",
       "</style>\n",
       "<table border=\"1\" class=\"dataframe\">\n",
       "  <thead>\n",
       "    <tr style=\"text-align: right;\">\n",
       "      <th></th>\n",
       "      <th>lm_train</th>\n",
       "      <th>lm_test</th>\n",
       "      <th>ridge_cv_train</th>\n",
       "      <th>ridge_cv_test</th>\n",
       "    </tr>\n",
       "  </thead>\n",
       "  <tbody>\n",
       "    <tr>\n",
       "      <th>rmse</th>\n",
       "      <td>1.748169</td>\n",
       "      <td>1.946054</td>\n",
       "      <td>1.800548</td>\n",
       "      <td>1.818647</td>\n",
       "    </tr>\n",
       "    <tr>\n",
       "      <th>mae</th>\n",
       "      <td>1.137458</td>\n",
       "      <td>1.181177</td>\n",
       "      <td>1.191505</td>\n",
       "      <td>1.138301</td>\n",
       "    </tr>\n",
       "    <tr>\n",
       "      <th>mse</th>\n",
       "      <td>3.056095</td>\n",
       "      <td>3.787126</td>\n",
       "      <td>3.241974</td>\n",
       "      <td>3.307479</td>\n",
       "    </tr>\n",
       "    <tr>\n",
       "      <th>R2</th>\n",
       "      <td>0.879844</td>\n",
       "      <td>0.858904</td>\n",
       "      <td>0.872536</td>\n",
       "      <td>0.876774</td>\n",
       "    </tr>\n",
       "  </tbody>\n",
       "</table>\n",
       "</div>"
      ],
      "text/plain": [
       "      lm_train   lm_test  ridge_cv_train  ridge_cv_test\n",
       "rmse  1.748169  1.946054        1.800548       1.818647\n",
       "mae   1.137458  1.181177        1.191505       1.138301\n",
       "mse   3.056095  3.787126        3.241974       3.307479\n",
       "R2    0.879844  0.858904        0.872536       0.876774"
      ]
     },
     "execution_count": 71,
     "metadata": {},
     "output_type": "execute_result"
    }
   ],
   "source": [
    "pd.concat([ls, rcs], axis = 1)"
   ]
  },
  {
   "cell_type": "markdown",
   "metadata": {
    "id": "B_T57TpNbV9V"
   },
   "source": [
    "# Lasso"
   ]
  },
  {
   "cell_type": "code",
   "execution_count": 72,
   "metadata": {},
   "outputs": [],
   "source": [
    "from sklearn.linear_model import Lasso, LassoCV"
   ]
  },
  {
   "cell_type": "code",
   "execution_count": 73,
   "metadata": {},
   "outputs": [],
   "source": [
    "alpha_space = np.linspace(0.001, 1, 100)"
   ]
  },
  {
   "cell_type": "code",
   "execution_count": 74,
   "metadata": {},
   "outputs": [],
   "source": [
    "lasso_cv_model = LassoCV(alphas = alpha_space, cv = 10, max_iter = 100000)"
   ]
  },
  {
   "cell_type": "code",
   "execution_count": 75,
   "metadata": {},
   "outputs": [
    {
     "data": {
      "text/plain": [
       "LassoCV(alphas=array([0.001     , 0.01109091, 0.02118182, 0.03127273, 0.04136364,\n",
       "       0.05145455, 0.06154545, 0.07163636, 0.08172727, 0.09181818,\n",
       "       0.10190909, 0.112     , 0.12209091, 0.13218182, 0.14227273,\n",
       "       0.15236364, 0.16245455, 0.17254545, 0.18263636, 0.19272727,\n",
       "       0.20281818, 0.21290909, 0.223     , 0.23309091, 0.24318182,\n",
       "       0.25327273, 0.26336364, 0.27345455, 0.28354545, 0.29363636,\n",
       "       0.30372727, 0....\n",
       "       0.65690909, 0.667     , 0.67709091, 0.68718182, 0.69727273,\n",
       "       0.70736364, 0.71745455, 0.72754545, 0.73763636, 0.74772727,\n",
       "       0.75781818, 0.76790909, 0.778     , 0.78809091, 0.79818182,\n",
       "       0.80827273, 0.81836364, 0.82845455, 0.83854545, 0.84863636,\n",
       "       0.85872727, 0.86881818, 0.87890909, 0.889     , 0.89909091,\n",
       "       0.90918182, 0.91927273, 0.92936364, 0.93945455, 0.94954545,\n",
       "       0.95963636, 0.96972727, 0.97981818, 0.98990909, 1.        ]),\n",
       "        cv=10, max_iter=100000)"
      ]
     },
     "execution_count": 75,
     "metadata": {},
     "output_type": "execute_result"
    }
   ],
   "source": [
    "lasso_cv_model.fit(X_train, y_train)"
   ]
  },
  {
   "cell_type": "code",
   "execution_count": 76,
   "metadata": {
    "id": "MBAiMxBAbV9W"
   },
   "outputs": [
    {
     "data": {
      "text/plain": [
       "0.03127272727272727"
      ]
     },
     "execution_count": 76,
     "metadata": {},
     "output_type": "execute_result"
    }
   ],
   "source": [
    "lasso_cv_model.alpha_"
   ]
  },
  {
   "cell_type": "code",
   "execution_count": 77,
   "metadata": {},
   "outputs": [
    {
     "name": "stdout",
     "output_type": "stream",
     "text": [
      "Model testing performance:\n",
      "--------------------------\n",
      "R2_score \t: 0.8685460934767105\n",
      "MAE \t\t: 1.19658480770505\n",
      "MSE \t\t: 3.3434519555412265\n",
      "RMSE \t\t: 1.8285108573758118\n"
     ]
    }
   ],
   "source": [
    "y_train_pred = lasso_cv_model.predict(X_train)\n",
    "eval_metrics(y_train, y_train_pred)"
   ]
  },
  {
   "cell_type": "code",
   "execution_count": 78,
   "metadata": {},
   "outputs": [
    {
     "name": "stdout",
     "output_type": "stream",
     "text": [
      "Model testing performance:\n",
      "--------------------------\n",
      "R2_score \t: 0.8911678280935197\n",
      "MAE \t\t: 1.095809645013982\n",
      "MSE \t\t: 2.9211399624763725\n",
      "RMSE \t\t: 1.7091342728049113\n"
     ]
    }
   ],
   "source": [
    "y_pred = lasso_cv_model.predict(X_test)\n",
    "eval_metrics(y_test, y_pred)"
   ]
  },
  {
   "cell_type": "code",
   "execution_count": 79,
   "metadata": {},
   "outputs": [
    {
     "data": {
      "text/html": [
       "<div>\n",
       "<style scoped>\n",
       "    .dataframe tbody tr th:only-of-type {\n",
       "        vertical-align: middle;\n",
       "    }\n",
       "\n",
       "    .dataframe tbody tr th {\n",
       "        vertical-align: top;\n",
       "    }\n",
       "\n",
       "    .dataframe thead th {\n",
       "        text-align: right;\n",
       "    }\n",
       "</style>\n",
       "<table border=\"1\" class=\"dataframe\">\n",
       "  <thead>\n",
       "    <tr style=\"text-align: right;\">\n",
       "      <th></th>\n",
       "      <th>lasso_cv_train</th>\n",
       "      <th>lasso_cv_test</th>\n",
       "    </tr>\n",
       "  </thead>\n",
       "  <tbody>\n",
       "    <tr>\n",
       "      <th>rmse</th>\n",
       "      <td>1.828511</td>\n",
       "      <td>1.709134</td>\n",
       "    </tr>\n",
       "    <tr>\n",
       "      <th>mae</th>\n",
       "      <td>1.196585</td>\n",
       "      <td>1.095810</td>\n",
       "    </tr>\n",
       "    <tr>\n",
       "      <th>mse</th>\n",
       "      <td>3.343452</td>\n",
       "      <td>2.921140</td>\n",
       "    </tr>\n",
       "    <tr>\n",
       "      <th>R2</th>\n",
       "      <td>0.868546</td>\n",
       "      <td>0.891168</td>\n",
       "    </tr>\n",
       "  </tbody>\n",
       "</table>\n",
       "</div>"
      ],
      "text/plain": [
       "      lasso_cv_train  lasso_cv_test\n",
       "rmse        1.828511       1.709134\n",
       "mae         1.196585       1.095810\n",
       "mse         3.343452       2.921140\n",
       "R2          0.868546       0.891168"
      ]
     },
     "execution_count": 79,
     "metadata": {},
     "output_type": "execute_result"
    }
   ],
   "source": [
    "lasso_cv_scores = {\"lasso_cv_train\": {\"rmse\" : np.sqrt(mean_squared_error(y_train, y_train_pred)),\n",
    "    \"mae\" : mean_absolute_error(y_train, y_train_pred),\n",
    "    \"mse\" : mean_squared_error(y_train, y_train_pred),\n",
    "    \"R2\" : r2_score(y_train, y_train_pred)}, \n",
    "\n",
    "    \"lasso_cv_test\": {\"rmse\" : np.sqrt(mean_squared_error(y_test, y_pred)),\n",
    "    \"mae\" : mean_absolute_error(y_test, y_pred),\n",
    "    \"mse\" : mean_squared_error(y_test, y_pred),\n",
    "    \"R2\" : r2_score(y_test, y_pred)}}\n",
    "lcs = pd.DataFrame(lasso_cv_scores)\n",
    "lcs"
   ]
  },
  {
   "cell_type": "code",
   "execution_count": 80,
   "metadata": {},
   "outputs": [
    {
     "data": {
      "text/html": [
       "<div>\n",
       "<style scoped>\n",
       "    .dataframe tbody tr th:only-of-type {\n",
       "        vertical-align: middle;\n",
       "    }\n",
       "\n",
       "    .dataframe tbody tr th {\n",
       "        vertical-align: top;\n",
       "    }\n",
       "\n",
       "    .dataframe thead th {\n",
       "        text-align: right;\n",
       "    }\n",
       "</style>\n",
       "<table border=\"1\" class=\"dataframe\">\n",
       "  <thead>\n",
       "    <tr style=\"text-align: right;\">\n",
       "      <th></th>\n",
       "      <th>lm_train</th>\n",
       "      <th>lm_test</th>\n",
       "      <th>ridge_cv_train</th>\n",
       "      <th>ridge_cv_test</th>\n",
       "      <th>lasso_cv_train</th>\n",
       "      <th>lasso_cv_test</th>\n",
       "    </tr>\n",
       "  </thead>\n",
       "  <tbody>\n",
       "    <tr>\n",
       "      <th>rmse</th>\n",
       "      <td>1.748169</td>\n",
       "      <td>1.946054</td>\n",
       "      <td>1.800548</td>\n",
       "      <td>1.818647</td>\n",
       "      <td>1.828511</td>\n",
       "      <td>1.709134</td>\n",
       "    </tr>\n",
       "    <tr>\n",
       "      <th>mae</th>\n",
       "      <td>1.137458</td>\n",
       "      <td>1.181177</td>\n",
       "      <td>1.191505</td>\n",
       "      <td>1.138301</td>\n",
       "      <td>1.196585</td>\n",
       "      <td>1.095810</td>\n",
       "    </tr>\n",
       "    <tr>\n",
       "      <th>mse</th>\n",
       "      <td>3.056095</td>\n",
       "      <td>3.787126</td>\n",
       "      <td>3.241974</td>\n",
       "      <td>3.307479</td>\n",
       "      <td>3.343452</td>\n",
       "      <td>2.921140</td>\n",
       "    </tr>\n",
       "    <tr>\n",
       "      <th>R2</th>\n",
       "      <td>0.879844</td>\n",
       "      <td>0.858904</td>\n",
       "      <td>0.872536</td>\n",
       "      <td>0.876774</td>\n",
       "      <td>0.868546</td>\n",
       "      <td>0.891168</td>\n",
       "    </tr>\n",
       "  </tbody>\n",
       "</table>\n",
       "</div>"
      ],
      "text/plain": [
       "      lm_train   lm_test  ridge_cv_train  ridge_cv_test  lasso_cv_train  lasso_cv_test\n",
       "rmse  1.748169  1.946054        1.800548       1.818647        1.828511       1.709134\n",
       "mae   1.137458  1.181177        1.191505       1.138301        1.196585       1.095810\n",
       "mse   3.056095  3.787126        3.241974       3.307479        3.343452       2.921140\n",
       "R2    0.879844  0.858904        0.872536       0.876774        0.868546       0.891168"
      ]
     },
     "execution_count": 80,
     "metadata": {},
     "output_type": "execute_result"
    }
   ],
   "source": [
    "pd.concat([ls, rcs, lcs], axis = 1)"
   ]
  },
  {
   "cell_type": "markdown",
   "metadata": {
    "id": "26QEobIEbV9X"
   },
   "source": [
    "## Elastic-Net "
   ]
  },
  {
   "cell_type": "code",
   "execution_count": 81,
   "metadata": {
    "id": "hIgltF9YbV9Y"
   },
   "outputs": [],
   "source": [
    "from sklearn.linear_model import ElasticNet, ElasticNetCV"
   ]
  },
  {
   "cell_type": "code",
   "execution_count": 82,
   "metadata": {},
   "outputs": [
    {
     "data": {
      "text/plain": [
       "ElasticNet()"
      ]
     },
     "execution_count": 82,
     "metadata": {},
     "output_type": "execute_result"
    }
   ],
   "source": [
    "elastic_model = ElasticNet()\n",
    "elastic_model.fit(X_train, y_train)"
   ]
  },
  {
   "cell_type": "code",
   "execution_count": 83,
   "metadata": {},
   "outputs": [
    {
     "data": {
      "text/plain": [
       "0.5"
      ]
     },
     "execution_count": 83,
     "metadata": {},
     "output_type": "execute_result"
    }
   ],
   "source": [
    "elastic_model.l1_ratio"
   ]
  },
  {
   "cell_type": "code",
   "execution_count": 84,
   "metadata": {},
   "outputs": [
    {
     "data": {
      "text/plain": [
       "1.0"
      ]
     },
     "execution_count": 84,
     "metadata": {},
     "output_type": "execute_result"
    }
   ],
   "source": [
    "elastic_model.alpha"
   ]
  },
  {
   "cell_type": "code",
   "execution_count": 85,
   "metadata": {},
   "outputs": [
    {
     "name": "stdout",
     "output_type": "stream",
     "text": [
      "Model testing performance:\n",
      "--------------------------\n",
      "R2_score \t: 0.18365441423272466\n",
      "MAE \t\t: 2.9737637659724547\n",
      "MSE \t\t: 20.76326460977011\n",
      "RMSE \t\t: 4.556672537035124\n"
     ]
    }
   ],
   "source": [
    "y_train_pred = elastic_model.predict(X_train)\n",
    "eval_metrics(y_train, y_train_pred)"
   ]
  },
  {
   "cell_type": "code",
   "execution_count": 86,
   "metadata": {},
   "outputs": [
    {
     "name": "stdout",
     "output_type": "stream",
     "text": [
      "Model testing performance:\n",
      "--------------------------\n",
      "R2_score \t: 0.1915448500897866\n",
      "MAE \t\t: 3.054714362337027\n",
      "MSE \t\t: 21.699563694289655\n",
      "RMSE \t\t: 4.658279048563928\n"
     ]
    }
   ],
   "source": [
    "y_pred = elastic_model.predict(X_test)\n",
    "eval_metrics(y_test, y_pred)"
   ]
  },
  {
   "cell_type": "code",
   "execution_count": 87,
   "metadata": {},
   "outputs": [
    {
     "data": {
      "text/html": [
       "<div>\n",
       "<style scoped>\n",
       "    .dataframe tbody tr th:only-of-type {\n",
       "        vertical-align: middle;\n",
       "    }\n",
       "\n",
       "    .dataframe tbody tr th {\n",
       "        vertical-align: top;\n",
       "    }\n",
       "\n",
       "    .dataframe thead th {\n",
       "        text-align: right;\n",
       "    }\n",
       "</style>\n",
       "<table border=\"1\" class=\"dataframe\">\n",
       "  <thead>\n",
       "    <tr style=\"text-align: right;\">\n",
       "      <th></th>\n",
       "      <th>elastic_train</th>\n",
       "      <th>elastic_test</th>\n",
       "    </tr>\n",
       "  </thead>\n",
       "  <tbody>\n",
       "    <tr>\n",
       "      <th>rmse</th>\n",
       "      <td>4.556673</td>\n",
       "      <td>4.658279</td>\n",
       "    </tr>\n",
       "    <tr>\n",
       "      <th>mae</th>\n",
       "      <td>2.973764</td>\n",
       "      <td>3.054714</td>\n",
       "    </tr>\n",
       "    <tr>\n",
       "      <th>mse</th>\n",
       "      <td>20.763265</td>\n",
       "      <td>21.699564</td>\n",
       "    </tr>\n",
       "    <tr>\n",
       "      <th>R2</th>\n",
       "      <td>0.183654</td>\n",
       "      <td>0.191545</td>\n",
       "    </tr>\n",
       "  </tbody>\n",
       "</table>\n",
       "</div>"
      ],
      "text/plain": [
       "      elastic_train  elastic_test\n",
       "rmse       4.556673      4.658279\n",
       "mae        2.973764      3.054714\n",
       "mse       20.763265     21.699564\n",
       "R2         0.183654      0.191545"
      ]
     },
     "execution_count": 87,
     "metadata": {},
     "output_type": "execute_result"
    }
   ],
   "source": [
    "elastic_scores = {\"elastic_train\": {\"rmse\" : np.sqrt(mean_squared_error(y_train, y_train_pred)),\n",
    "    \"mae\" : mean_absolute_error(y_train, y_train_pred),\n",
    "    \"mse\" : mean_squared_error(y_train, y_train_pred),\n",
    "    \"R2\" : r2_score(y_train, y_train_pred)}, \n",
    "\n",
    "    \"elastic_test\": {\"rmse\" : np.sqrt(mean_squared_error(y_test, y_pred)),\n",
    "    \"mae\" : mean_absolute_error(y_test, y_pred),\n",
    "    \"mse\" : mean_squared_error(y_test, y_pred),\n",
    "    \"R2\" : r2_score(y_test, y_pred)}}\n",
    "es = pd.DataFrame(elastic_scores)\n",
    "es"
   ]
  },
  {
   "cell_type": "code",
   "execution_count": 88,
   "metadata": {},
   "outputs": [
    {
     "data": {
      "text/html": [
       "<div>\n",
       "<style scoped>\n",
       "    .dataframe tbody tr th:only-of-type {\n",
       "        vertical-align: middle;\n",
       "    }\n",
       "\n",
       "    .dataframe tbody tr th {\n",
       "        vertical-align: top;\n",
       "    }\n",
       "\n",
       "    .dataframe thead th {\n",
       "        text-align: right;\n",
       "    }\n",
       "</style>\n",
       "<table border=\"1\" class=\"dataframe\">\n",
       "  <thead>\n",
       "    <tr style=\"text-align: right;\">\n",
       "      <th></th>\n",
       "      <th>lm_train</th>\n",
       "      <th>lm_test</th>\n",
       "      <th>ridge_cv_train</th>\n",
       "      <th>ridge_cv_test</th>\n",
       "      <th>lasso_cv_train</th>\n",
       "      <th>lasso_cv_test</th>\n",
       "      <th>elastic_train</th>\n",
       "      <th>elastic_test</th>\n",
       "    </tr>\n",
       "  </thead>\n",
       "  <tbody>\n",
       "    <tr>\n",
       "      <th>rmse</th>\n",
       "      <td>1.748169</td>\n",
       "      <td>1.946054</td>\n",
       "      <td>1.800548</td>\n",
       "      <td>1.818647</td>\n",
       "      <td>1.828511</td>\n",
       "      <td>1.709134</td>\n",
       "      <td>4.556673</td>\n",
       "      <td>4.658279</td>\n",
       "    </tr>\n",
       "    <tr>\n",
       "      <th>mae</th>\n",
       "      <td>1.137458</td>\n",
       "      <td>1.181177</td>\n",
       "      <td>1.191505</td>\n",
       "      <td>1.138301</td>\n",
       "      <td>1.196585</td>\n",
       "      <td>1.095810</td>\n",
       "      <td>2.973764</td>\n",
       "      <td>3.054714</td>\n",
       "    </tr>\n",
       "    <tr>\n",
       "      <th>mse</th>\n",
       "      <td>3.056095</td>\n",
       "      <td>3.787126</td>\n",
       "      <td>3.241974</td>\n",
       "      <td>3.307479</td>\n",
       "      <td>3.343452</td>\n",
       "      <td>2.921140</td>\n",
       "      <td>20.763265</td>\n",
       "      <td>21.699564</td>\n",
       "    </tr>\n",
       "    <tr>\n",
       "      <th>R2</th>\n",
       "      <td>0.879844</td>\n",
       "      <td>0.858904</td>\n",
       "      <td>0.872536</td>\n",
       "      <td>0.876774</td>\n",
       "      <td>0.868546</td>\n",
       "      <td>0.891168</td>\n",
       "      <td>0.183654</td>\n",
       "      <td>0.191545</td>\n",
       "    </tr>\n",
       "  </tbody>\n",
       "</table>\n",
       "</div>"
      ],
      "text/plain": [
       "      lm_train   lm_test  ridge_cv_train  ridge_cv_test  lasso_cv_train  lasso_cv_test  elastic_train  elastic_test\n",
       "rmse  1.748169  1.946054        1.800548       1.818647        1.828511       1.709134       4.556673      4.658279\n",
       "mae   1.137458  1.181177        1.191505       1.138301        1.196585       1.095810       2.973764      3.054714\n",
       "mse   3.056095  3.787126        3.241974       3.307479        3.343452       2.921140      20.763265     21.699564\n",
       "R2    0.879844  0.858904        0.872536       0.876774        0.868546       0.891168       0.183654      0.191545"
      ]
     },
     "execution_count": 88,
     "metadata": {},
     "output_type": "execute_result"
    }
   ],
   "source": [
    "pd.concat([ls, rcs, lcs, es], axis = 1)"
   ]
  },
  {
   "cell_type": "code",
   "execution_count": 89,
   "metadata": {},
   "outputs": [],
   "source": [
    "elastic_cv_model = ElasticNetCV(alphas = alpha_space, l1_ratio=[0.1, 0.5, 0.7,0.9, 0.95, 1], cv = 10, max_iter = 100000)"
   ]
  },
  {
   "cell_type": "code",
   "execution_count": 90,
   "metadata": {},
   "outputs": [
    {
     "data": {
      "text/plain": [
       "ElasticNetCV(alphas=array([0.001     , 0.01109091, 0.02118182, 0.03127273, 0.04136364,\n",
       "       0.05145455, 0.06154545, 0.07163636, 0.08172727, 0.09181818,\n",
       "       0.10190909, 0.112     , 0.12209091, 0.13218182, 0.14227273,\n",
       "       0.15236364, 0.16245455, 0.17254545, 0.18263636, 0.19272727,\n",
       "       0.20281818, 0.21290909, 0.223     , 0.23309091, 0.24318182,\n",
       "       0.25327273, 0.26336364, 0.27345455, 0.28354545, 0.29363636,\n",
       "       0.303727...\n",
       "       0.70736364, 0.71745455, 0.72754545, 0.73763636, 0.74772727,\n",
       "       0.75781818, 0.76790909, 0.778     , 0.78809091, 0.79818182,\n",
       "       0.80827273, 0.81836364, 0.82845455, 0.83854545, 0.84863636,\n",
       "       0.85872727, 0.86881818, 0.87890909, 0.889     , 0.89909091,\n",
       "       0.90918182, 0.91927273, 0.92936364, 0.93945455, 0.94954545,\n",
       "       0.95963636, 0.96972727, 0.97981818, 0.98990909, 1.        ]),\n",
       "             cv=10, l1_ratio=[0.1, 0.5, 0.7, 0.9, 0.95, 1], max_iter=100000)"
      ]
     },
     "execution_count": 90,
     "metadata": {},
     "output_type": "execute_result"
    }
   ],
   "source": [
    "elastic_cv_model.fit(X_train, y_train)"
   ]
  },
  {
   "cell_type": "code",
   "execution_count": 91,
   "metadata": {},
   "outputs": [
    {
     "data": {
      "text/plain": [
       "0.011090909090909092"
      ]
     },
     "execution_count": 91,
     "metadata": {},
     "output_type": "execute_result"
    }
   ],
   "source": [
    "elastic_cv_model.alpha_"
   ]
  },
  {
   "cell_type": "code",
   "execution_count": 92,
   "metadata": {},
   "outputs": [
    {
     "data": {
      "text/plain": [
       "0.95"
      ]
     },
     "execution_count": 92,
     "metadata": {},
     "output_type": "execute_result"
    }
   ],
   "source": [
    "elastic_cv_model.l1_ratio_"
   ]
  },
  {
   "cell_type": "code",
   "execution_count": 93,
   "metadata": {},
   "outputs": [
    {
     "name": "stdout",
     "output_type": "stream",
     "text": [
      "Model testing performance:\n",
      "--------------------------\n",
      "R2_score \t: 0.8719204052869122\n",
      "MAE \t\t: 1.1881973767342613\n",
      "MSE \t\t: 3.257628340870439\n",
      "RMSE \t\t: 1.8048901187802096\n"
     ]
    }
   ],
   "source": [
    "y_train_pred = elastic_cv_model.predict(X_train)\n",
    "eval_metrics(y_train, y_train_pred)"
   ]
  },
  {
   "cell_type": "code",
   "execution_count": 94,
   "metadata": {},
   "outputs": [
    {
     "name": "stdout",
     "output_type": "stream",
     "text": [
      "Model testing performance:\n",
      "--------------------------\n",
      "R2_score \t: 0.8835073852868379\n",
      "MAE \t\t: 1.1036297329306\n",
      "MSE \t\t: 3.1267521929489175\n",
      "RMSE \t\t: 1.7682624785220427\n"
     ]
    }
   ],
   "source": [
    "y_pred = elastic_cv_model.predict(X_test)\n",
    "eval_metrics(y_test, y_pred)"
   ]
  },
  {
   "cell_type": "code",
   "execution_count": 95,
   "metadata": {},
   "outputs": [
    {
     "data": {
      "text/html": [
       "<div>\n",
       "<style scoped>\n",
       "    .dataframe tbody tr th:only-of-type {\n",
       "        vertical-align: middle;\n",
       "    }\n",
       "\n",
       "    .dataframe tbody tr th {\n",
       "        vertical-align: top;\n",
       "    }\n",
       "\n",
       "    .dataframe thead th {\n",
       "        text-align: right;\n",
       "    }\n",
       "</style>\n",
       "<table border=\"1\" class=\"dataframe\">\n",
       "  <thead>\n",
       "    <tr style=\"text-align: right;\">\n",
       "      <th></th>\n",
       "      <th>elastic_cv_train</th>\n",
       "      <th>elastic_cv_test</th>\n",
       "    </tr>\n",
       "  </thead>\n",
       "  <tbody>\n",
       "    <tr>\n",
       "      <th>rmse</th>\n",
       "      <td>1.804890</td>\n",
       "      <td>1.768262</td>\n",
       "    </tr>\n",
       "    <tr>\n",
       "      <th>mae</th>\n",
       "      <td>1.188197</td>\n",
       "      <td>1.103630</td>\n",
       "    </tr>\n",
       "    <tr>\n",
       "      <th>mse</th>\n",
       "      <td>3.257628</td>\n",
       "      <td>3.126752</td>\n",
       "    </tr>\n",
       "    <tr>\n",
       "      <th>R2</th>\n",
       "      <td>0.871920</td>\n",
       "      <td>0.883507</td>\n",
       "    </tr>\n",
       "  </tbody>\n",
       "</table>\n",
       "</div>"
      ],
      "text/plain": [
       "      elastic_cv_train  elastic_cv_test\n",
       "rmse          1.804890         1.768262\n",
       "mae           1.188197         1.103630\n",
       "mse           3.257628         3.126752\n",
       "R2            0.871920         0.883507"
      ]
     },
     "execution_count": 95,
     "metadata": {},
     "output_type": "execute_result"
    }
   ],
   "source": [
    "elastic_cv_scores = {\"elastic_cv_train\": {\"rmse\" : np.sqrt(mean_squared_error(y_train, y_train_pred)),\n",
    "    \"mae\" : mean_absolute_error(y_train, y_train_pred),\n",
    "    \"mse\" : mean_squared_error(y_train, y_train_pred),\n",
    "    \"R2\" : r2_score(y_train, y_train_pred)}, \n",
    "\n",
    "    \"elastic_cv_test\": {\"rmse\" : np.sqrt(mean_squared_error(y_test, y_pred)),\n",
    "    \"mae\" : mean_absolute_error(y_test, y_pred),\n",
    "    \"mse\" : mean_squared_error(y_test, y_pred),\n",
    "    \"R2\" : r2_score(y_test, y_pred)}}\n",
    "ecs = pd.DataFrame(elastic_cv_scores)\n",
    "ecs"
   ]
  },
  {
   "cell_type": "code",
   "execution_count": 96,
   "metadata": {},
   "outputs": [
    {
     "data": {
      "text/html": [
       "<div>\n",
       "<style scoped>\n",
       "    .dataframe tbody tr th:only-of-type {\n",
       "        vertical-align: middle;\n",
       "    }\n",
       "\n",
       "    .dataframe tbody tr th {\n",
       "        vertical-align: top;\n",
       "    }\n",
       "\n",
       "    .dataframe thead th {\n",
       "        text-align: right;\n",
       "    }\n",
       "</style>\n",
       "<table border=\"1\" class=\"dataframe\">\n",
       "  <thead>\n",
       "    <tr style=\"text-align: right;\">\n",
       "      <th></th>\n",
       "      <th>lm_train</th>\n",
       "      <th>lm_test</th>\n",
       "      <th>ridge_cv_train</th>\n",
       "      <th>ridge_cv_test</th>\n",
       "      <th>lasso_cv_train</th>\n",
       "      <th>lasso_cv_test</th>\n",
       "      <th>elastic_cv_train</th>\n",
       "      <th>elastic_cv_test</th>\n",
       "    </tr>\n",
       "  </thead>\n",
       "  <tbody>\n",
       "    <tr>\n",
       "      <th>rmse</th>\n",
       "      <td>1.748169</td>\n",
       "      <td>1.946054</td>\n",
       "      <td>1.800548</td>\n",
       "      <td>1.818647</td>\n",
       "      <td>1.828511</td>\n",
       "      <td>1.709134</td>\n",
       "      <td>1.804890</td>\n",
       "      <td>1.768262</td>\n",
       "    </tr>\n",
       "    <tr>\n",
       "      <th>mae</th>\n",
       "      <td>1.137458</td>\n",
       "      <td>1.181177</td>\n",
       "      <td>1.191505</td>\n",
       "      <td>1.138301</td>\n",
       "      <td>1.196585</td>\n",
       "      <td>1.095810</td>\n",
       "      <td>1.188197</td>\n",
       "      <td>1.103630</td>\n",
       "    </tr>\n",
       "    <tr>\n",
       "      <th>mse</th>\n",
       "      <td>3.056095</td>\n",
       "      <td>3.787126</td>\n",
       "      <td>3.241974</td>\n",
       "      <td>3.307479</td>\n",
       "      <td>3.343452</td>\n",
       "      <td>2.921140</td>\n",
       "      <td>3.257628</td>\n",
       "      <td>3.126752</td>\n",
       "    </tr>\n",
       "    <tr>\n",
       "      <th>R2</th>\n",
       "      <td>0.879844</td>\n",
       "      <td>0.858904</td>\n",
       "      <td>0.872536</td>\n",
       "      <td>0.876774</td>\n",
       "      <td>0.868546</td>\n",
       "      <td>0.891168</td>\n",
       "      <td>0.871920</td>\n",
       "      <td>0.883507</td>\n",
       "    </tr>\n",
       "  </tbody>\n",
       "</table>\n",
       "</div>"
      ],
      "text/plain": [
       "      lm_train   lm_test  ridge_cv_train  ridge_cv_test  lasso_cv_train  lasso_cv_test  elastic_cv_train  elastic_cv_test\n",
       "rmse  1.748169  1.946054        1.800548       1.818647        1.828511       1.709134          1.804890         1.768262\n",
       "mae   1.137458  1.181177        1.191505       1.138301        1.196585       1.095810          1.188197         1.103630\n",
       "mse   3.056095  3.787126        3.241974       3.307479        3.343452       2.921140          3.257628         3.126752\n",
       "R2    0.879844  0.858904        0.872536       0.876774        0.868546       0.891168          0.871920         0.883507"
      ]
     },
     "execution_count": 96,
     "metadata": {},
     "output_type": "execute_result"
    }
   ],
   "source": [
    "pd.concat([ls, rcs, lcs, ecs], axis = 1)"
   ]
  },
  {
   "cell_type": "markdown",
   "metadata": {},
   "source": [
    "# Salih Hoca'nın Özet Kodları "
   ]
  },
  {
   "cell_type": "code",
   "execution_count": 99,
   "metadata": {
    "scrolled": true
   },
   "outputs": [
    {
     "data": {
      "text/html": [
       "<style  type=\"text/css\" >\n",
       "#T_4fba7913_209b_11ec_8126_7c7a91ce4603row0_col0{\n",
       "            background-color:  #eceff2;\n",
       "            color:  #000000;\n",
       "        }#T_4fba7913_209b_11ec_8126_7c7a91ce4603row0_col1,#T_4fba7913_209b_11ec_8126_7c7a91ce4603row3_col0,#T_4fba7913_209b_11ec_8126_7c7a91ce4603row6_col2{\n",
       "            background-color:  #5db2db;\n",
       "            color:  #000000;\n",
       "            background-color:  lightgreen;\n",
       "        }#T_4fba7913_209b_11ec_8126_7c7a91ce4603row0_col2{\n",
       "            background-color:  #60b4db;\n",
       "            color:  #000000;\n",
       "        }#T_4fba7913_209b_11ec_8126_7c7a91ce4603row1_col0,#T_4fba7913_209b_11ec_8126_7c7a91ce4603row2_col0{\n",
       "            background-color:  #eef0f2;\n",
       "            color:  #000000;\n",
       "        }#T_4fba7913_209b_11ec_8126_7c7a91ce4603row1_col1,#T_4fba7913_209b_11ec_8126_7c7a91ce4603row2_col1{\n",
       "            background-color:  #5eb2db;\n",
       "            color:  #000000;\n",
       "        }#T_4fba7913_209b_11ec_8126_7c7a91ce4603row1_col2,#T_4fba7913_209b_11ec_8126_7c7a91ce4603row2_col2{\n",
       "            background-color:  #5eb3db;\n",
       "            color:  #000000;\n",
       "        }#T_4fba7913_209b_11ec_8126_7c7a91ce4603row3_col1,#T_4fba7913_209b_11ec_8126_7c7a91ce4603row3_col2,#T_4fba7913_209b_11ec_8126_7c7a91ce4603row6_col0{\n",
       "            background-color:  #eff1f2;\n",
       "            color:  #000000;\n",
       "            background-color:  red;\n",
       "        }#T_4fba7913_209b_11ec_8126_7c7a91ce4603row4_col0{\n",
       "            background-color:  #ecf0f2;\n",
       "            color:  #000000;\n",
       "        }#T_4fba7913_209b_11ec_8126_7c7a91ce4603row4_col1{\n",
       "            background-color:  #5db2db;\n",
       "            color:  #000000;\n",
       "        }#T_4fba7913_209b_11ec_8126_7c7a91ce4603row4_col2{\n",
       "            background-color:  #60b3db;\n",
       "            color:  #000000;\n",
       "        }#T_4fba7913_209b_11ec_8126_7c7a91ce4603row5_col0{\n",
       "            background-color:  #75bddf;\n",
       "            color:  #000000;\n",
       "        }#T_4fba7913_209b_11ec_8126_7c7a91ce4603row5_col1{\n",
       "            background-color:  #e4ecf0;\n",
       "            color:  #000000;\n",
       "        }#T_4fba7913_209b_11ec_8126_7c7a91ce4603row5_col2{\n",
       "            background-color:  #d6e6ee;\n",
       "            color:  #000000;\n",
       "        }#T_4fba7913_209b_11ec_8126_7c7a91ce4603row6_col1{\n",
       "            background-color:  #5fb3db;\n",
       "            color:  #000000;\n",
       "        }</style><table id=\"T_4fba7913_209b_11ec_8126_7c7a91ce4603\" ><thead>    <tr>        <th class=\"blank level0\" ></th>        <th class=\"col_heading level0 col0\" >RMSE</th>        <th class=\"col_heading level0 col1\" >R2 Train</th>        <th class=\"col_heading level0 col2\" >R2 Test</th>    </tr></thead><tbody>\n",
       "                <tr>\n",
       "                        <th id=\"T_4fba7913_209b_11ec_8126_7c7a91ce4603level0_row0\" class=\"row_heading level0 row0\" >LinearRegression</th>\n",
       "                        <td id=\"T_4fba7913_209b_11ec_8126_7c7a91ce4603row0_col0\" class=\"data row0 col0\" >1.881953</td>\n",
       "                        <td id=\"T_4fba7913_209b_11ec_8126_7c7a91ce4603row0_col1\" class=\"data row0 col1\" >0.882803</td>\n",
       "                        <td id=\"T_4fba7913_209b_11ec_8126_7c7a91ce4603row0_col2\" class=\"data row0 col2\" >0.875616</td>\n",
       "            </tr>\n",
       "            <tr>\n",
       "                        <th id=\"T_4fba7913_209b_11ec_8126_7c7a91ce4603level0_row1\" class=\"row_heading level0 row1\" >Ridge</th>\n",
       "                        <td id=\"T_4fba7913_209b_11ec_8126_7c7a91ce4603row1_col0\" class=\"data row1 col0\" >1.877167</td>\n",
       "                        <td id=\"T_4fba7913_209b_11ec_8126_7c7a91ce4603row1_col1\" class=\"data row1 col1\" >0.882465</td>\n",
       "                        <td id=\"T_4fba7913_209b_11ec_8126_7c7a91ce4603row1_col2\" class=\"data row1 col2\" >0.876247</td>\n",
       "            </tr>\n",
       "            <tr>\n",
       "                        <th id=\"T_4fba7913_209b_11ec_8126_7c7a91ce4603level0_row2\" class=\"row_heading level0 row2\" >RidgeCv</th>\n",
       "                        <td id=\"T_4fba7913_209b_11ec_8126_7c7a91ce4603row2_col0\" class=\"data row2 col0\" >1.877167</td>\n",
       "                        <td id=\"T_4fba7913_209b_11ec_8126_7c7a91ce4603row2_col1\" class=\"data row2 col1\" >0.882465</td>\n",
       "                        <td id=\"T_4fba7913_209b_11ec_8126_7c7a91ce4603row2_col2\" class=\"data row2 col2\" >0.876247</td>\n",
       "            </tr>\n",
       "            <tr>\n",
       "                        <th id=\"T_4fba7913_209b_11ec_8126_7c7a91ce4603level0_row3\" class=\"row_heading level0 row3\" >Lasso</th>\n",
       "                        <td id=\"T_4fba7913_209b_11ec_8126_7c7a91ce4603row3_col0\" class=\"data row3 col0\" >2.136973</td>\n",
       "                        <td id=\"T_4fba7913_209b_11ec_8126_7c7a91ce4603row3_col1\" class=\"data row3 col1\" >0.835666</td>\n",
       "                        <td id=\"T_4fba7913_209b_11ec_8126_7c7a91ce4603row3_col2\" class=\"data row3 col2\" >0.839621</td>\n",
       "            </tr>\n",
       "            <tr>\n",
       "                        <th id=\"T_4fba7913_209b_11ec_8126_7c7a91ce4603level0_row4\" class=\"row_heading level0 row4\" >LassoCv</th>\n",
       "                        <td id=\"T_4fba7913_209b_11ec_8126_7c7a91ce4603row4_col0\" class=\"data row4 col0\" >1.880992</td>\n",
       "                        <td id=\"T_4fba7913_209b_11ec_8126_7c7a91ce4603row4_col1\" class=\"data row4 col1\" >0.882784</td>\n",
       "                        <td id=\"T_4fba7913_209b_11ec_8126_7c7a91ce4603row4_col2\" class=\"data row4 col2\" >0.875743</td>\n",
       "            </tr>\n",
       "            <tr>\n",
       "                        <th id=\"T_4fba7913_209b_11ec_8126_7c7a91ce4603level0_row5\" class=\"row_heading level0 row5\" >ElasticNet</th>\n",
       "                        <td id=\"T_4fba7913_209b_11ec_8126_7c7a91ce4603row5_col0\" class=\"data row5 col0\" >2.093872</td>\n",
       "                        <td id=\"T_4fba7913_209b_11ec_8126_7c7a91ce4603row5_col1\" class=\"data row5 col1\" >0.839360</td>\n",
       "                        <td id=\"T_4fba7913_209b_11ec_8126_7c7a91ce4603row5_col2\" class=\"data row5 col2\" >0.846026</td>\n",
       "            </tr>\n",
       "            <tr>\n",
       "                        <th id=\"T_4fba7913_209b_11ec_8126_7c7a91ce4603level0_row6\" class=\"row_heading level0 row6\" >ElasticNetCv</th>\n",
       "                        <td id=\"T_4fba7913_209b_11ec_8126_7c7a91ce4603row6_col0\" class=\"data row6 col0\" >1.874872</td>\n",
       "                        <td id=\"T_4fba7913_209b_11ec_8126_7c7a91ce4603row6_col1\" class=\"data row6 col1\" >0.882125</td>\n",
       "                        <td id=\"T_4fba7913_209b_11ec_8126_7c7a91ce4603row6_col2\" class=\"data row6 col2\" >0.876550</td>\n",
       "            </tr>\n",
       "    </tbody></table>"
      ],
      "text/plain": [
       "<pandas.io.formats.style.Styler at 0x2a23ebe5f40>"
      ]
     },
     "execution_count": 99,
     "metadata": {},
     "output_type": "execute_result"
    }
   ],
   "source": [
    "X = df.drop(columns=\"Selling_Price\")\n",
    "y = df[\"Selling_Price\"]\n",
    "X_train, X_test, y_train, y_test = train_test_split(X, y, test_size=0.3, random_state=42)\n",
    "\n",
    "rmse_vals =[]\n",
    "r2_train = []\n",
    "r2_vals =[]\n",
    "model_names =[]\n",
    "\n",
    "lr = LinearRegression()\n",
    "rr = Ridge()\n",
    "rrCv = RidgeCV(alphas=np.linspace(0.001, 1,100),scoring=\"neg_root_mean_squared_error\",cv=10)\n",
    "elastic = ElasticNet()\n",
    "ElasticNetCv = ElasticNetCV(alphas=np.linspace(0.01,1,100), l1_ratio=[0.1, 0.5, 0.7,0.9, 0.95, 1],max_iter=100000,cv=10)\n",
    "lassor = Lasso()\n",
    "lassoCv = LassoCV(alphas = np.linspace(0.001,1,100), cv = 10, max_iter = 100000)\n",
    "\n",
    "models = [lr,rr,rrCv,lassor,lassoCv,elastic,ElasticNetCv]\n",
    "\n",
    "\n",
    "for model in models:\n",
    "    model.fit(X_train, y_train)\n",
    "    y_pred = model.predict(X_test)\n",
    "    rmse_vals.append(np.sqrt(mean_squared_error(y_test, y_pred)))\n",
    "    r2_train.append (model.score(X_train,y_train))\n",
    "    r2_vals.append(r2_score(y_test, y_pred))\n",
    "\n",
    "model_names = ['LinearRegression','Ridge','RidgeCv','Lasso','LassoCv','ElasticNet','ElasticNetCv']\n",
    "result_df = pd.DataFrame({'RMSE':rmse_vals,'R2 Train':r2_train, 'R2 Test':r2_vals}, index=model_names)\n",
    "cm = sns.light_palette((230, 75, 69),as_cmap=True , input=\"husl\")\n",
    "result_df.style.background_gradient(cmap=cm).highlight_min(axis=0, color='red').highlight_max(axis=0,color=\"lightgreen\")"
   ]
  },
  {
   "cell_type": "code",
   "execution_count": null,
   "metadata": {},
   "outputs": [],
   "source": []
  }
 ],
 "metadata": {
  "colab": {
   "name": "used_car_price_prediction_assignment1.ipynb",
   "provenance": []
  },
  "kernelspec": {
   "display_name": "Python 3",
   "language": "python",
   "name": "python3"
  },
  "language_info": {
   "codemirror_mode": {
    "name": "ipython",
    "version": 3
   },
   "file_extension": ".py",
   "mimetype": "text/x-python",
   "name": "python",
   "nbconvert_exporter": "python",
   "pygments_lexer": "ipython3",
   "version": "3.8.5"
  }
 },
 "nbformat": 4,
 "nbformat_minor": 1
}
